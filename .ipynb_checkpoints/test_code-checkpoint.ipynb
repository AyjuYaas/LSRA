{
 "cells": [
  {
   "cell_type": "code",
   "execution_count": 38,
   "id": "ea6aea3e-9a84-4aca-97e7-af3c28bae49b",
   "metadata": {},
   "outputs": [],
   "source": [
    "import numpy as np \n",
    "import pandas as pd"
   ]
  },
  {
   "cell_type": "code",
   "execution_count": 39,
   "id": "f2a876ad-a661-4c70-a360-85764966d035",
   "metadata": {},
   "outputs": [
    {
     "name": "stdout",
     "output_type": "stream",
     "text": [
      "      CustomerID  Churn  Tenure PreferredLoginDevice  CityTier  \\\n",
      "0          50001      1     4.0         Mobile Phone         3   \n",
      "1          50002      1     NaN                Phone         1   \n",
      "2          50003      1     NaN                Phone         1   \n",
      "3          50004      1     0.0                Phone         3   \n",
      "4          50005      1     0.0                Phone         1   \n",
      "...          ...    ...     ...                  ...       ...   \n",
      "5625       55626      0    10.0             Computer         1   \n",
      "5626       55627      0    13.0         Mobile Phone         1   \n",
      "5627       55628      0     1.0         Mobile Phone         1   \n",
      "5628       55629      0    23.0             Computer         3   \n",
      "5629       55630      0     8.0         Mobile Phone         1   \n",
      "\n",
      "      WarehouseToHome PreferredPaymentMode  Gender  HourSpendOnApp  \\\n",
      "0                 6.0           Debit Card  Female             3.0   \n",
      "1                 8.0                  UPI    Male             3.0   \n",
      "2                30.0           Debit Card    Male             2.0   \n",
      "3                15.0           Debit Card    Male             2.0   \n",
      "4                12.0                   CC    Male             NaN   \n",
      "...               ...                  ...     ...             ...   \n",
      "5625             30.0          Credit Card    Male             3.0   \n",
      "5626             13.0          Credit Card    Male             3.0   \n",
      "5627             11.0           Debit Card    Male             3.0   \n",
      "5628              9.0          Credit Card    Male             4.0   \n",
      "5629             15.0          Credit Card    Male             3.0   \n",
      "\n",
      "      NumberOfDeviceRegistered    PreferedOrderCat  SatisfactionScore  \\\n",
      "0                            3  Laptop & Accessory                  2   \n",
      "1                            4              Mobile                  3   \n",
      "2                            4              Mobile                  3   \n",
      "3                            4  Laptop & Accessory                  5   \n",
      "4                            3              Mobile                  5   \n",
      "...                        ...                 ...                ...   \n",
      "5625                         2  Laptop & Accessory                  1   \n",
      "5626                         5             Fashion                  5   \n",
      "5627                         2  Laptop & Accessory                  4   \n",
      "5628                         5  Laptop & Accessory                  4   \n",
      "5629                         2  Laptop & Accessory                  3   \n",
      "\n",
      "     MaritalStatus  NumberOfAddress  Complain  OrderAmountHikeFromlastYear  \\\n",
      "0           Single                9         1                         11.0   \n",
      "1           Single                7         1                         15.0   \n",
      "2           Single                6         1                         14.0   \n",
      "3           Single                8         0                         23.0   \n",
      "4           Single                3         0                         11.0   \n",
      "...            ...              ...       ...                          ...   \n",
      "5625       Married                6         0                         18.0   \n",
      "5626       Married                6         0                         16.0   \n",
      "5627       Married                3         1                         21.0   \n",
      "5628       Married                4         0                         15.0   \n",
      "5629       Married                4         0                         13.0   \n",
      "\n",
      "      CouponUsed  OrderCount  DaySinceLastOrder  CashbackAmount  \n",
      "0            1.0         1.0                5.0          159.93  \n",
      "1            0.0         1.0                0.0          120.90  \n",
      "2            0.0         1.0                3.0          120.28  \n",
      "3            0.0         1.0                3.0          134.07  \n",
      "4            1.0         1.0                3.0          129.60  \n",
      "...          ...         ...                ...             ...  \n",
      "5625         1.0         2.0                4.0          150.71  \n",
      "5626         1.0         2.0                NaN          224.91  \n",
      "5627         1.0         2.0                4.0          186.42  \n",
      "5628         2.0         2.0                9.0          178.90  \n",
      "5629         2.0         2.0                3.0          169.04  \n",
      "\n",
      "[5630 rows x 20 columns]\n"
     ]
    }
   ],
   "source": [
    "# Opening the Excel\n",
    "data = pd.read_excel('./E Commerce Dataset.xlsx', sheet_name='E Comm')\n",
    "\n",
    "print(data)"
   ]
  },
  {
   "cell_type": "code",
   "execution_count": 40,
   "id": "5d351acf-42ff-418c-b676-c466e47825a7",
   "metadata": {},
   "outputs": [
    {
     "name": "stdout",
     "output_type": "stream",
     "text": [
      "PreferredLoginDevice ---> ['Mobile Phone' 'Phone' 'Computer']\n",
      "\n",
      "PreferredPaymentMode ---> ['Debit Card' 'UPI' 'CC' 'Cash on Delivery' 'E wallet' 'COD' 'Credit Card']\n",
      "\n",
      "Gender ---> ['Female' 'Male']\n",
      "\n",
      "PreferedOrderCat ---> ['Laptop & Accessory' 'Mobile' 'Mobile Phone' 'Others' 'Fashion' 'Grocery']\n",
      "\n",
      "MaritalStatus ---> ['Single' 'Divorced' 'Married']\n",
      "\n"
     ]
    }
   ],
   "source": [
    "cat_cols = data.dtypes[data.dtypes == 'object'].index\n",
    "\n",
    "for i in cat_cols:\n",
    "    print(f\"{i} ---> {data[i].unique()}\")\n",
    "    print()"
   ]
  },
  {
   "cell_type": "code",
   "execution_count": 41,
   "id": "0f76e1c4-b156-42ca-afba-de0676911001",
   "metadata": {},
   "outputs": [
    {
     "name": "stderr",
     "output_type": "stream",
     "text": [
      "C:\\Users\\sayuj\\AppData\\Local\\Temp\\ipykernel_6852\\4277807303.py:2: FutureWarning: A value is trying to be set on a copy of a DataFrame or Series through chained assignment using an inplace method.\n",
      "The behavior will change in pandas 3.0. This inplace method will never work because the intermediate object on which we are setting values always behaves as a copy.\n",
      "\n",
      "For example, when doing 'df[col].method(value, inplace=True)', try using 'df.method({col: value}, inplace=True)' or df[col] = df[col].method(value) instead, to perform the operation inplace on the original object.\n",
      "\n",
      "\n",
      "  data[\"PreferredLoginDevice\"].replace(\"Phone\", \"Mobile Phone\", inplace = True)\n",
      "C:\\Users\\sayuj\\AppData\\Local\\Temp\\ipykernel_6852\\4277807303.py:3: FutureWarning: A value is trying to be set on a copy of a DataFrame or Series through chained assignment using an inplace method.\n",
      "The behavior will change in pandas 3.0. This inplace method will never work because the intermediate object on which we are setting values always behaves as a copy.\n",
      "\n",
      "For example, when doing 'df[col].method(value, inplace=True)', try using 'df.method({col: value}, inplace=True)' or df[col] = df[col].method(value) instead, to perform the operation inplace on the original object.\n",
      "\n",
      "\n",
      "  data[\"PreferredPaymentMode\"].replace([\"CC\", \"COD\"], [\"Credit Card\", \"Cash On Delivery\"], inplace = True)\n",
      "C:\\Users\\sayuj\\AppData\\Local\\Temp\\ipykernel_6852\\4277807303.py:4: FutureWarning: A value is trying to be set on a copy of a DataFrame or Series through chained assignment using an inplace method.\n",
      "The behavior will change in pandas 3.0. This inplace method will never work because the intermediate object on which we are setting values always behaves as a copy.\n",
      "\n",
      "For example, when doing 'df[col].method(value, inplace=True)', try using 'df.method({col: value}, inplace=True)' or df[col] = df[col].method(value) instead, to perform the operation inplace on the original object.\n",
      "\n",
      "\n",
      "  data[\"PreferedOrderCat\"].replace(\"Mobile Phone\", \"Mobile\", inplace = True)\n"
     ]
    }
   ],
   "source": [
    "# Replacing duplicate values\n",
    "data[\"PreferredLoginDevice\"].replace(\"Phone\", \"Mobile Phone\", inplace = True)\n",
    "data[\"PreferredPaymentMode\"].replace([\"CC\", \"COD\"], [\"Credit Card\", \"Cash On Delivery\"], inplace = True)\n",
    "data[\"PreferedOrderCat\"].replace(\"Mobile Phone\", \"Mobile\", inplace = True)"
   ]
  },
  {
   "cell_type": "code",
   "execution_count": 42,
   "id": "b9ab3ffc-9c71-4935-816d-7138543114fb",
   "metadata": {},
   "outputs": [
    {
     "name": "stdout",
     "output_type": "stream",
     "text": [
      "PreferredLoginDevice ---> ['Mobile Phone' 'Computer']\n",
      "\n",
      "PreferredPaymentMode ---> ['Debit Card' 'UPI' 'Credit Card' 'Cash on Delivery' 'E wallet'\n",
      " 'Cash On Delivery']\n",
      "\n",
      "Gender ---> ['Female' 'Male']\n",
      "\n",
      "PreferedOrderCat ---> ['Laptop & Accessory' 'Mobile' 'Others' 'Fashion' 'Grocery']\n",
      "\n",
      "MaritalStatus ---> ['Single' 'Divorced' 'Married']\n",
      "\n"
     ]
    }
   ],
   "source": [
    "cat_cols = data.dtypes[data.dtypes == 'object'].index\n",
    "\n",
    "for i in cat_cols:\n",
    "    print(f\"{i} ---> {data[i].unique()}\")\n",
    "    print()"
   ]
  },
  {
   "cell_type": "code",
   "execution_count": 43,
   "id": "c4283d50-db12-4658-976d-70b2724384fd",
   "metadata": {},
   "outputs": [
    {
     "name": "stdout",
     "output_type": "stream",
     "text": [
      "<class 'pandas.core.frame.DataFrame'>\n",
      "RangeIndex: 5630 entries, 0 to 5629\n",
      "Data columns (total 20 columns):\n",
      " #   Column                       Non-Null Count  Dtype  \n",
      "---  ------                       --------------  -----  \n",
      " 0   CustomerID                   5630 non-null   int64  \n",
      " 1   Churn                        5630 non-null   int64  \n",
      " 2   Tenure                       5366 non-null   float64\n",
      " 3   PreferredLoginDevice         5630 non-null   object \n",
      " 4   CityTier                     5630 non-null   int64  \n",
      " 5   WarehouseToHome              5379 non-null   float64\n",
      " 6   PreferredPaymentMode         5630 non-null   object \n",
      " 7   Gender                       5630 non-null   object \n",
      " 8   HourSpendOnApp               5375 non-null   float64\n",
      " 9   NumberOfDeviceRegistered     5630 non-null   int64  \n",
      " 10  PreferedOrderCat             5630 non-null   object \n",
      " 11  SatisfactionScore            5630 non-null   int64  \n",
      " 12  MaritalStatus                5630 non-null   object \n",
      " 13  NumberOfAddress              5630 non-null   int64  \n",
      " 14  Complain                     5630 non-null   int64  \n",
      " 15  OrderAmountHikeFromlastYear  5365 non-null   float64\n",
      " 16  CouponUsed                   5374 non-null   float64\n",
      " 17  OrderCount                   5372 non-null   float64\n",
      " 18  DaySinceLastOrder            5323 non-null   float64\n",
      " 19  CashbackAmount               5630 non-null   float64\n",
      "dtypes: float64(8), int64(7), object(5)\n",
      "memory usage: 879.8+ KB\n"
     ]
    }
   ],
   "source": [
    "# Data type in the data set and column\n",
    "data.info()\n",
    "\n",
    "# Convert all the data type into integer\n",
    "from sklearn.preprocessing import LabelEncoder # Convert objects into numerical values\n",
    "\n",
    "label_encoder = LabelEncoder()\n",
    "for column in data.select_dtypes(include='object'):\n",
    "    data[column] = label_encoder.fit_transform(data[column])"
   ]
  },
  {
   "cell_type": "code",
   "execution_count": 44,
   "id": "db18ff71-24de-40ef-ad12-5458fac1ddd6",
   "metadata": {},
   "outputs": [
    {
     "name": "stdout",
     "output_type": "stream",
     "text": [
      "<class 'pandas.core.frame.DataFrame'>\n",
      "RangeIndex: 5630 entries, 0 to 5629\n",
      "Data columns (total 20 columns):\n",
      " #   Column                       Non-Null Count  Dtype  \n",
      "---  ------                       --------------  -----  \n",
      " 0   CustomerID                   5630 non-null   int64  \n",
      " 1   Churn                        5630 non-null   int64  \n",
      " 2   Tenure                       5366 non-null   float64\n",
      " 3   PreferredLoginDevice         5630 non-null   int32  \n",
      " 4   CityTier                     5630 non-null   int64  \n",
      " 5   WarehouseToHome              5379 non-null   float64\n",
      " 6   PreferredPaymentMode         5630 non-null   int32  \n",
      " 7   Gender                       5630 non-null   int32  \n",
      " 8   HourSpendOnApp               5375 non-null   float64\n",
      " 9   NumberOfDeviceRegistered     5630 non-null   int64  \n",
      " 10  PreferedOrderCat             5630 non-null   int32  \n",
      " 11  SatisfactionScore            5630 non-null   int64  \n",
      " 12  MaritalStatus                5630 non-null   int32  \n",
      " 13  NumberOfAddress              5630 non-null   int64  \n",
      " 14  Complain                     5630 non-null   int64  \n",
      " 15  OrderAmountHikeFromlastYear  5365 non-null   float64\n",
      " 16  CouponUsed                   5374 non-null   float64\n",
      " 17  OrderCount                   5372 non-null   float64\n",
      " 18  DaySinceLastOrder            5323 non-null   float64\n",
      " 19  CashbackAmount               5630 non-null   float64\n",
      "dtypes: float64(8), int32(5), int64(7)\n",
      "memory usage: 769.9 KB\n"
     ]
    }
   ],
   "source": [
    "# Checking the data types again\n",
    "data.info()"
   ]
  },
  {
   "cell_type": "code",
   "execution_count": 45,
   "id": "2a6eece0-8c52-4f46-8f36-740063bea22b",
   "metadata": {},
   "outputs": [
    {
     "data": {
      "text/plain": [
       "CustomerID                       0\n",
       "Churn                            0\n",
       "Tenure                         264\n",
       "PreferredLoginDevice             0\n",
       "CityTier                         0\n",
       "WarehouseToHome                251\n",
       "PreferredPaymentMode             0\n",
       "Gender                           0\n",
       "HourSpendOnApp                 255\n",
       "NumberOfDeviceRegistered         0\n",
       "PreferedOrderCat                 0\n",
       "SatisfactionScore                0\n",
       "MaritalStatus                    0\n",
       "NumberOfAddress                  0\n",
       "Complain                         0\n",
       "OrderAmountHikeFromlastYear    265\n",
       "CouponUsed                     256\n",
       "OrderCount                     258\n",
       "DaySinceLastOrder              307\n",
       "CashbackAmount                   0\n",
       "dtype: int64"
      ]
     },
     "execution_count": 45,
     "metadata": {},
     "output_type": "execute_result"
    }
   ],
   "source": [
    "# Missing Data\n",
    "data.isnull().sum()"
   ]
  },
  {
   "cell_type": "code",
   "execution_count": 46,
   "id": "cdc89890-e12b-47e8-96d9-7a9ec8e70226",
   "metadata": {},
   "outputs": [],
   "source": [
    "# # We have to fill the missing value, using the value nearest to it i.e. Mean or Median\n",
    "\n",
    "# # First find the column with missing value\n",
    "# column_with_missing_value = [col for col in data.columns if data[col].isnull().sum() > 0]\n",
    "\n",
    "# # Now fill the missing values with median\n",
    "# for col in column_with_missing_value:\n",
    "#     median_value = data[col].median()\n",
    "#     data[col].fillna(median_value, inplace = True)\n",
    "\n",
    "# data.isnull().sum()\n",
    "\n",
    "data.dropna(how = 'any', inplace = True)"
   ]
  },
  {
   "cell_type": "code",
   "execution_count": 47,
   "id": "7327018a-b994-4521-923e-4f6924c6b761",
   "metadata": {},
   "outputs": [
    {
     "data": {
      "text/plain": [
       "Churn\n",
       "0    3143\n",
       "1     631\n",
       "Name: count, dtype: int64"
      ]
     },
     "execution_count": 47,
     "metadata": {},
     "output_type": "execute_result"
    }
   ],
   "source": [
    "# Number of Churners vs Non-Churners\n",
    "data['Churn'].value_counts()"
   ]
  },
  {
   "cell_type": "code",
   "execution_count": 48,
   "id": "2b195d96-6c80-4ccf-8cc3-c47cc8a2f21e",
   "metadata": {},
   "outputs": [],
   "source": [
    "# Since churn data is less so we need to oversample or properly balance the data\n",
    "from sklearn.utils import resample\n",
    "\n",
    "no_churn_data = data.loc[data['Churn'] == 0]\n",
    "churn_data = data.loc[data['Churn'] == 1]\n",
    "\n",
    "# calculate the total number of each data\n",
    "no_churn_count = len(no_churn_data)\n",
    "churn_count = len(churn_data)\n",
    "\n",
    "# Now we apply the oversampling data\n",
    "data_rearrange = resample(churn_data, replace = True, n_samples = no_churn_count, random_state = 42)"
   ]
  },
  {
   "cell_type": "code",
   "execution_count": 49,
   "id": "dfa7435e-f1f4-4d8e-a146-29c134f181d0",
   "metadata": {},
   "outputs": [],
   "source": [
    "# We combine the oversampled minority (i.e. churn) with majority class (i.e. no churn)\n",
    "new_data = pd.concat([data_rearrange, no_churn_data])\n",
    "\n",
    "# We shuffle the rows to ensure combined dataset are properly randomized\n",
    "new_data = new_data.sample(frac =  1) # frac = 1 means all the rows will be shuffled\n",
    "\n",
    "# Now reset the index of the new dataset\n",
    "new_data.reset_index(drop = True, inplace = True)"
   ]
  },
  {
   "cell_type": "code",
   "execution_count": 50,
   "id": "fb87e964-77ce-4535-b3b9-b365736110a5",
   "metadata": {},
   "outputs": [
    {
     "data": {
      "text/plain": [
       "Churn\n",
       "0    3143\n",
       "1    3143\n",
       "Name: count, dtype: int64"
      ]
     },
     "execution_count": 50,
     "metadata": {},
     "output_type": "execute_result"
    }
   ],
   "source": [
    "# Checking the new Churn Value\n",
    "new_data['Churn'].value_counts()"
   ]
  },
  {
   "cell_type": "code",
   "execution_count": 51,
   "id": "d5507239-5f26-4e94-8143-fdc9880a14c8",
   "metadata": {},
   "outputs": [],
   "source": [
    "# Splitting into Train and Test Dataset (70% - 30%)\n",
    "x = new_data.drop(['Churn'], axis = 1)\n",
    "y = new_data['Churn']\n",
    "\n",
    "from  sklearn.model_selection import train_test_split\n",
    "x_train, x_test, y_train, y_test = train_test_split(x, y, test_size=0.3, random_state=42)\n",
    "\n",
    "# Now we  will make normalization for all data to make them in common range\n",
    "from sklearn.preprocessing import MinMaxScaler\n",
    "\n",
    "MN = MinMaxScaler()\n",
    "x_train_scaled = MN.fit_transform(x_train)\n",
    "x_test_scaled = MN.fit_transform(x_test)"
   ]
  },
  {
   "cell_type": "code",
   "execution_count": 52,
   "id": "f973525e-2760-4b8c-812b-492e697c0ab9",
   "metadata": {},
   "outputs": [
    {
     "name": "stdout",
     "output_type": "stream",
     "text": [
      "Accuracy = 0.95864262990456\n",
      "\n",
      "Classification Report of Random Forest:\n",
      "              precision    recall  f1-score   support\n",
      "\n",
      "           0     0.9397    0.9784    0.9586       924\n",
      "           1     0.9784    0.9397    0.9586       962\n",
      "\n",
      "    accuracy                         0.9586      1886\n",
      "   macro avg     0.9590    0.9590    0.9586      1886\n",
      "weighted avg     0.9594    0.9586    0.9586      1886\n",
      "\n"
     ]
    },
    {
     "data": {
      "text/plain": [
       "(<Figure size 640x480 with 1 Axes>,\n",
       " <Axes: xlabel='predicted label', ylabel='true label'>)"
      ]
     },
     "execution_count": 52,
     "metadata": {},
     "output_type": "execute_result"
    },
    {
     "data": {
      "image/png": "[encoded data removed]",
      "text/plain": [
       "<Figure size 640x480 with 1 Axes>"
      ]
     },
     "metadata": {},
     "output_type": "display_data"
    }
   ],
   "source": [
    "# Usually need to install using 'pip install mlxtend' in cmd\n",
    "from mlxtend.plotting import plot_confusion_matrix\n",
    "from sklearn.metrics import accuracy_score, classification_report, confusion_matrix\n",
    "from sklearn.ensemble import RandomForestClassifier\n",
    "\n",
    "rf_model = RandomForestClassifier()\n",
    "\n",
    "# Trains the model on the normalized training data\n",
    "rf_model.fit(x_train_scaled, y_train) \n",
    "\n",
    "# After training, we use it to predict the churn\n",
    "y_pred_rf = rf_model.predict(x_test_scaled) \n",
    "\n",
    "# After prediction for accuracy testing\n",
    "# Test the accuracy of predicted to the test or known data\n",
    "accuracy = accuracy_score(y_test, y_pred_rf) \n",
    "\n",
    "print(f\"Accuracy = {format(accuracy)}\") \n",
    "\n",
    "print(f\"\\nClassification Report of Random Forest:\\n{classification_report(y_test, y_pred_rf, digits=4)}\") \n",
    "plot_confusion_matrix(confusion_matrix(y_test , y_pred_rf)) # Computes the confusion matrix"
   ]
  },
  {
   "cell_type": "code",
   "execution_count": 53,
   "id": "8dba9093-d994-4a1e-8793-0bec926bfb5e",
   "metadata": {},
   "outputs": [
    {
     "name": "stdout",
     "output_type": "stream",
     "text": [
      "(4400, 19)\n"
     ]
    }
   ],
   "source": [
    "import tensorflow as tf\n",
    "from tensorflow import keras\n",
    "from keras.models import Sequential\n",
    "from keras.layers import Input, Dense\n",
    "\n",
    "print(x_train.shape)"
   ]
  },
  {
   "cell_type": "code",
   "execution_count": null,
   "id": "d8a13e0e-139e-4072-8119-d8d7492da084",
   "metadata": {},
   "outputs": [
    {
     "name": "stdout",
     "output_type": "stream",
     "text": [
      "Epoch 1/100\n",
      "\u001b[1m138/138\u001b[0m \u001b[32m━━━━━━━━━━━━━━━━━━━━\u001b[0m\u001b[37m\u001b[0m \u001b[1m1s\u001b[0m 1ms/step - accuracy: 0.5378 - loss: 0.6904\n",
      "Epoch 2/100\n",
      "\u001b[1m138/138\u001b[0m \u001b[32m━━━━━━━━━━━━━━━━━━━━\u001b[0m\u001b[37m\u001b[0m \u001b[1m0s\u001b[0m 1ms/step - accuracy: 0.6814 - loss: 0.6316\n",
      "Epoch 3/100\n",
      "\u001b[1m138/138\u001b[0m \u001b[32m━━━━━━━━━━━━━━━━━━━━\u001b[0m\u001b[37m\u001b[0m \u001b[1m0s\u001b[0m 1ms/step - accuracy: 0.7432 - loss: 0.5709\n",
      "Epoch 4/100\n",
      "\u001b[1m138/138\u001b[0m \u001b[32m━━━━━━━━━━━━━━━━━━━━\u001b[0m\u001b[37m\u001b[0m \u001b[1m0s\u001b[0m 2ms/step - accuracy: 0.7580 - loss: 0.5344\n",
      "Epoch 5/100\n",
      "\u001b[1m138/138\u001b[0m \u001b[32m━━━━━━━━━━━━━━━━━━━━\u001b[0m\u001b[37m\u001b[0m \u001b[1m0s\u001b[0m 1ms/step - accuracy: 0.7829 - loss: 0.4868\n",
      "Epoch 6/100\n",
      "\u001b[1m138/138\u001b[0m \u001b[32m━━━━━━━━━━━━━━━━━━━━\u001b[0m\u001b[37m\u001b[0m \u001b[1m0s\u001b[0m 1ms/step - accuracy: 0.8031 - loss: 0.4639\n",
      "Epoch 7/100\n",
      "\u001b[1m138/138\u001b[0m \u001b[32m━━━━━━━━━━━━━━━━━━━━\u001b[0m\u001b[37m\u001b[0m \u001b[1m0s\u001b[0m 1ms/step - accuracy: 0.8138 - loss: 0.4442\n",
      "Epoch 8/100\n",
      "\u001b[1m138/138\u001b[0m \u001b[32m━━━━━━━━━━━━━━━━━━━━\u001b[0m\u001b[37m\u001b[0m \u001b[1m0s\u001b[0m 1ms/step - accuracy: 0.8137 - loss: 0.4332\n",
      "Epoch 9/100\n",
      "\u001b[1m138/138\u001b[0m \u001b[32m━━━━━━━━━━━━━━━━━━━━\u001b[0m\u001b[37m\u001b[0m \u001b[1m0s\u001b[0m 1ms/step - accuracy: 0.8214 - loss: 0.4275\n",
      "Epoch 10/100\n",
      "\u001b[1m138/138\u001b[0m \u001b[32m━━━━━━━━━━━━━━━━━━━━\u001b[0m\u001b[37m\u001b[0m \u001b[1m0s\u001b[0m 1ms/step - accuracy: 0.8039 - loss: 0.4302\n",
      "Epoch 11/100\n",
      "\u001b[1m138/138\u001b[0m \u001b[32m━━━━━━━━━━━━━━━━━━━━\u001b[0m\u001b[37m\u001b[0m \u001b[1m0s\u001b[0m 1ms/step - accuracy: 0.8142 - loss: 0.4162\n",
      "Epoch 12/100\n",
      "\u001b[1m138/138\u001b[0m \u001b[32m━━━━━━━━━━━━━━━━━━━━\u001b[0m\u001b[37m\u001b[0m \u001b[1m0s\u001b[0m 1ms/step - accuracy: 0.8183 - loss: 0.4084\n",
      "Epoch 13/100\n",
      "\u001b[1m138/138\u001b[0m \u001b[32m━━━━━━━━━━━━━━━━━━━━\u001b[0m\u001b[37m\u001b[0m \u001b[1m0s\u001b[0m 1ms/step - accuracy: 0.8299 - loss: 0.4029\n",
      "Epoch 14/100\n",
      "\u001b[1m138/138\u001b[0m \u001b[32m━━━━━━━━━━━━━━━━━━━━\u001b[0m\u001b[37m\u001b[0m \u001b[1m0s\u001b[0m 1ms/step - accuracy: 0.8271 - loss: 0.3904\n",
      "Epoch 15/100\n",
      "\u001b[1m138/138\u001b[0m \u001b[32m━━━━━━━━━━━━━━━━━━━━\u001b[0m\u001b[37m\u001b[0m \u001b[1m0s\u001b[0m 1ms/step - accuracy: 0.8228 - loss: 0.3978\n",
      "Epoch 16/100\n",
      "\u001b[1m138/138\u001b[0m \u001b[32m━━━━━━━━━━━━━━━━━━━━\u001b[0m\u001b[37m\u001b[0m \u001b[1m0s\u001b[0m 1ms/step - accuracy: 0.8196 - loss: 0.3910\n",
      "Epoch 17/100\n",
      "\u001b[1m138/138\u001b[0m \u001b[32m━━━━━━━━━━━━━━━━━━━━\u001b[0m\u001b[37m\u001b[0m \u001b[1m0s\u001b[0m 2ms/step - accuracy: 0.8272 - loss: 0.3894\n",
      "Epoch 18/100\n",
      "\u001b[1m138/138\u001b[0m \u001b[32m━━━━━━━━━━━━━━━━━━━━\u001b[0m\u001b[37m\u001b[0m \u001b[1m0s\u001b[0m 1ms/step - accuracy: 0.8312 - loss: 0.3893\n",
      "Epoch 19/100\n",
      "\u001b[1m138/138\u001b[0m \u001b[32m━━━━━━━━━━━━━━━━━━━━\u001b[0m\u001b[37m\u001b[0m \u001b[1m0s\u001b[0m 2ms/step - accuracy: 0.8299 - loss: 0.3882\n",
      "Epoch 20/100\n",
      "\u001b[1m138/138\u001b[0m \u001b[32m━━━━━━━━━━━━━━━━━━━━\u001b[0m\u001b[37m\u001b[0m \u001b[1m0s\u001b[0m 1ms/step - accuracy: 0.8290 - loss: 0.3829\n",
      "Epoch 21/100\n",
      "\u001b[1m138/138\u001b[0m \u001b[32m━━━━━━━━━━━━━━━━━━━━\u001b[0m\u001b[37m\u001b[0m \u001b[1m0s\u001b[0m 1ms/step - accuracy: 0.8274 - loss: 0.3796\n",
      "Epoch 22/100\n",
      "\u001b[1m138/138\u001b[0m \u001b[32m━━━━━━━━━━━━━━━━━━━━\u001b[0m\u001b[37m\u001b[0m \u001b[1m0s\u001b[0m 1ms/step - accuracy: 0.8283 - loss: 0.3780\n",
      "Epoch 23/100\n",
      "\u001b[1m138/138\u001b[0m \u001b[32m━━━━━━━━━━━━━━━━━━━━\u001b[0m\u001b[37m\u001b[0m \u001b[1m0s\u001b[0m 1ms/step - accuracy: 0.8292 - loss: 0.3843\n",
      "Epoch 24/100\n",
      "\u001b[1m138/138\u001b[0m \u001b[32m━━━━━━━━━━━━━━━━━━━━\u001b[0m\u001b[37m\u001b[0m \u001b[1m0s\u001b[0m 1ms/step - accuracy: 0.8268 - loss: 0.3781\n",
      "Epoch 25/100\n",
      "\u001b[1m138/138\u001b[0m \u001b[32m━━━━━━━━━━━━━━━━━━━━\u001b[0m\u001b[37m\u001b[0m \u001b[1m0s\u001b[0m 2ms/step - accuracy: 0.8255 - loss: 0.3818\n",
      "Epoch 26/100\n",
      "\u001b[1m138/138\u001b[0m \u001b[32m━━━━━━━━━━━━━━━━━━━━\u001b[0m\u001b[37m\u001b[0m \u001b[1m0s\u001b[0m 1ms/step - accuracy: 0.8422 - loss: 0.3602\n",
      "Epoch 27/100\n",
      "\u001b[1m138/138\u001b[0m \u001b[32m━━━━━━━━━━━━━━━━━━━━\u001b[0m\u001b[37m\u001b[0m \u001b[1m0s\u001b[0m 1ms/step - accuracy: 0.8348 - loss: 0.3737\n",
      "Epoch 28/100\n",
      "\u001b[1m138/138\u001b[0m \u001b[32m━━━━━━━━━━━━━━━━━━━━\u001b[0m\u001b[37m\u001b[0m \u001b[1m0s\u001b[0m 1ms/step - accuracy: 0.8389 - loss: 0.3614\n",
      "Epoch 29/100\n",
      "\u001b[1m138/138\u001b[0m \u001b[32m━━━━━━━━━━━━━━━━━━━━\u001b[0m\u001b[37m\u001b[0m \u001b[1m0s\u001b[0m 2ms/step - accuracy: 0.8453 - loss: 0.3533\n",
      "Epoch 30/100\n",
      "\u001b[1m138/138\u001b[0m \u001b[32m━━━━━━━━━━━━━━━━━━━━\u001b[0m\u001b[37m\u001b[0m \u001b[1m0s\u001b[0m 2ms/step - accuracy: 0.8345 - loss: 0.3715\n",
      "Epoch 31/100\n",
      "\u001b[1m138/138\u001b[0m \u001b[32m━━━━━━━━━━━━━━━━━━━━\u001b[0m\u001b[37m\u001b[0m \u001b[1m0s\u001b[0m 1ms/step - accuracy: 0.8389 - loss: 0.3610\n",
      "Epoch 32/100\n",
      "\u001b[1m138/138\u001b[0m \u001b[32m━━━━━━━━━━━━━━━━━━━━\u001b[0m\u001b[37m\u001b[0m \u001b[1m0s\u001b[0m 2ms/step - accuracy: 0.8411 - loss: 0.3550\n",
      "Epoch 33/100\n",
      "\u001b[1m138/138\u001b[0m \u001b[32m━━━━━━━━━━━━━━━━━━━━\u001b[0m\u001b[37m\u001b[0m \u001b[1m0s\u001b[0m 1ms/step - accuracy: 0.8352 - loss: 0.3608\n",
      "Epoch 34/100\n",
      "\u001b[1m138/138\u001b[0m \u001b[32m━━━━━━━━━━━━━━━━━━━━\u001b[0m\u001b[37m\u001b[0m \u001b[1m0s\u001b[0m 1ms/step - accuracy: 0.8503 - loss: 0.3524\n",
      "Epoch 35/100\n",
      "\u001b[1m138/138\u001b[0m \u001b[32m━━━━━━━━━━━━━━━━━━━━\u001b[0m\u001b[37m\u001b[0m \u001b[1m0s\u001b[0m 1ms/step - accuracy: 0.8556 - loss: 0.3378\n",
      "Epoch 36/100\n",
      "\u001b[1m138/138\u001b[0m \u001b[32m━━━━━━━━━━━━━━━━━━━━\u001b[0m\u001b[37m\u001b[0m \u001b[1m0s\u001b[0m 1ms/step - accuracy: 0.8524 - loss: 0.3461\n",
      "Epoch 37/100\n",
      "\u001b[1m138/138\u001b[0m \u001b[32m━━━━━━━━━━━━━━━━━━━━\u001b[0m\u001b[37m\u001b[0m \u001b[1m0s\u001b[0m 1ms/step - accuracy: 0.8492 - loss: 0.3450\n",
      "Epoch 38/100\n",
      "\u001b[1m138/138\u001b[0m \u001b[32m━━━━━━━━━━━━━━━━━━━━\u001b[0m\u001b[37m\u001b[0m \u001b[1m0s\u001b[0m 1ms/step - accuracy: 0.8558 - loss: 0.3332\n",
      "Epoch 39/100\n",
      "\u001b[1m138/138\u001b[0m \u001b[32m━━━━━━━━━━━━━━━━━━━━\u001b[0m\u001b[37m\u001b[0m \u001b[1m0s\u001b[0m 1ms/step - accuracy: 0.8485 - loss: 0.3408\n",
      "Epoch 40/100\n",
      "\u001b[1m138/138\u001b[0m \u001b[32m━━━━━━━━━━━━━━━━━━━━\u001b[0m\u001b[37m\u001b[0m \u001b[1m0s\u001b[0m 1ms/step - accuracy: 0.8550 - loss: 0.3307\n",
      "Epoch 41/100\n",
      "\u001b[1m138/138\u001b[0m \u001b[32m━━━━━━━━━━━━━━━━━━━━\u001b[0m\u001b[37m\u001b[0m \u001b[1m0s\u001b[0m 1ms/step - accuracy: 0.8646 - loss: 0.3237\n",
      "Epoch 42/100\n",
      "\u001b[1m138/138\u001b[0m \u001b[32m━━━━━━━━━━━━━━━━━━━━\u001b[0m\u001b[37m\u001b[0m \u001b[1m0s\u001b[0m 1ms/step - accuracy: 0.8677 - loss: 0.3205\n",
      "Epoch 43/100\n",
      "\u001b[1m138/138\u001b[0m \u001b[32m━━━━━━━━━━━━━━━━━━━━\u001b[0m\u001b[37m\u001b[0m \u001b[1m0s\u001b[0m 1ms/step - accuracy: 0.8593 - loss: 0.3216\n",
      "Epoch 44/100\n",
      "\u001b[1m138/138\u001b[0m \u001b[32m━━━━━━━━━━━━━━━━━━━━\u001b[0m\u001b[37m\u001b[0m \u001b[1m0s\u001b[0m 2ms/step - accuracy: 0.8602 - loss: 0.3309\n",
      "Epoch 45/100\n",
      "\u001b[1m138/138\u001b[0m \u001b[32m━━━━━━━━━━━━━━━━━━━━\u001b[0m\u001b[37m\u001b[0m \u001b[1m0s\u001b[0m 1ms/step - accuracy: 0.8633 - loss: 0.3354\n",
      "Epoch 46/100\n",
      "\u001b[1m138/138\u001b[0m \u001b[32m━━━━━━━━━━━━━━━━━━━━\u001b[0m\u001b[37m\u001b[0m \u001b[1m0s\u001b[0m 1ms/step - accuracy: 0.8560 - loss: 0.3269\n",
      "Epoch 47/100\n",
      "\u001b[1m138/138\u001b[0m \u001b[32m━━━━━━━━━━━━━━━━━━━━\u001b[0m\u001b[37m\u001b[0m \u001b[1m0s\u001b[0m 1ms/step - accuracy: 0.8655 - loss: 0.3215\n",
      "Epoch 48/100\n",
      "\u001b[1m138/138\u001b[0m \u001b[32m━━━━━━━━━━━━━━━━━━━━\u001b[0m\u001b[37m\u001b[0m \u001b[1m0s\u001b[0m 1ms/step - accuracy: 0.8619 - loss: 0.3304\n",
      "Epoch 49/100\n",
      "\u001b[1m138/138\u001b[0m \u001b[32m━━━━━━━━━━━━━━━━━━━━\u001b[0m\u001b[37m\u001b[0m \u001b[1m0s\u001b[0m 1ms/step - accuracy: 0.8596 - loss: 0.3218\n",
      "Epoch 50/100\n",
      "\u001b[1m138/138\u001b[0m \u001b[32m━━━━━━━━━━━━━━━━━━━━\u001b[0m\u001b[37m\u001b[0m \u001b[1m0s\u001b[0m 1ms/step - accuracy: 0.8679 - loss: 0.3073\n",
      "Epoch 51/100\n",
      "\u001b[1m138/138\u001b[0m \u001b[32m━━━━━━━━━━━━━━━━━━━━\u001b[0m\u001b[37m\u001b[0m \u001b[1m0s\u001b[0m 1ms/step - accuracy: 0.8606 - loss: 0.3232\n",
      "Epoch 52/100\n",
      "\u001b[1m138/138\u001b[0m \u001b[32m━━━━━━━━━━━━━━━━━━━━\u001b[0m\u001b[37m\u001b[0m \u001b[1m0s\u001b[0m 1ms/step - accuracy: 0.8656 - loss: 0.3064\n",
      "Epoch 53/100\n",
      "\u001b[1m138/138\u001b[0m \u001b[32m━━━━━━━━━━━━━━━━━━━━\u001b[0m\u001b[37m\u001b[0m \u001b[1m0s\u001b[0m 1ms/step - accuracy: 0.8705 - loss: 0.3091\n",
      "Epoch 54/100\n",
      "\u001b[1m138/138\u001b[0m \u001b[32m━━━━━━━━━━━━━━━━━━━━\u001b[0m\u001b[37m\u001b[0m \u001b[1m0s\u001b[0m 1ms/step - accuracy: 0.8645 - loss: 0.3136\n",
      "Epoch 55/100\n",
      "\u001b[1m138/138\u001b[0m \u001b[32m━━━━━━━━━━━━━━━━━━━━\u001b[0m\u001b[37m\u001b[0m \u001b[1m0s\u001b[0m 1ms/step - accuracy: 0.8610 - loss: 0.3120\n",
      "Epoch 56/100\n",
      "\u001b[1m138/138\u001b[0m \u001b[32m━━━━━━━━━━━━━━━━━━━━\u001b[0m\u001b[37m\u001b[0m \u001b[1m0s\u001b[0m 1ms/step - accuracy: 0.8704 - loss: 0.3007\n",
      "Epoch 57/100\n",
      "\u001b[1m138/138\u001b[0m \u001b[32m━━━━━━━━━━━━━━━━━━━━\u001b[0m\u001b[37m\u001b[0m \u001b[1m0s\u001b[0m 1ms/step - accuracy: 0.8553 - loss: 0.3111\n",
      "Epoch 58/100\n",
      "\u001b[1m138/138\u001b[0m \u001b[32m━━━━━━━━━━━━━━━━━━━━\u001b[0m\u001b[37m\u001b[0m \u001b[1m0s\u001b[0m 1ms/step - accuracy: 0.8741 - loss: 0.2980\n",
      "Epoch 59/100\n",
      "\u001b[1m138/138\u001b[0m \u001b[32m━━━━━━━━━━━━━━━━━━━━\u001b[0m\u001b[37m\u001b[0m \u001b[1m0s\u001b[0m 1ms/step - accuracy: 0.8622 - loss: 0.3042\n",
      "Epoch 60/100\n",
      "\u001b[1m138/138\u001b[0m \u001b[32m━━━━━━━━━━━━━━━━━━━━\u001b[0m\u001b[37m\u001b[0m \u001b[1m0s\u001b[0m 1ms/step - accuracy: 0.8580 - loss: 0.3171\n",
      "Epoch 61/100\n",
      "\u001b[1m138/138\u001b[0m \u001b[32m━━━━━━━━━━━━━━━━━━━━\u001b[0m\u001b[37m\u001b[0m \u001b[1m0s\u001b[0m 1ms/step - accuracy: 0.8631 - loss: 0.3021\n",
      "Epoch 62/100\n",
      "\u001b[1m138/138\u001b[0m \u001b[32m━━━━━━━━━━━━━━━━━━━━\u001b[0m\u001b[37m\u001b[0m \u001b[1m0s\u001b[0m 1ms/step - accuracy: 0.8762 - loss: 0.2994\n",
      "Epoch 63/100\n",
      "\u001b[1m138/138\u001b[0m \u001b[32m━━━━━━━━━━━━━━━━━━━━\u001b[0m\u001b[37m\u001b[0m \u001b[1m0s\u001b[0m 1ms/step - accuracy: 0.8804 - loss: 0.2844\n",
      "Epoch 64/100\n",
      "\u001b[1m138/138\u001b[0m \u001b[32m━━━━━━━━━━━━━━━━━━━━\u001b[0m\u001b[37m\u001b[0m \u001b[1m0s\u001b[0m 1ms/step - accuracy: 0.8794 - loss: 0.2878\n",
      "Epoch 65/100\n",
      "\u001b[1m138/138\u001b[0m \u001b[32m━━━━━━━━━━━━━━━━━━━━\u001b[0m\u001b[37m\u001b[0m \u001b[1m0s\u001b[0m 1ms/step - accuracy: 0.8797 - loss: 0.2814\n",
      "Epoch 66/100\n",
      "\u001b[1m 92/138\u001b[0m \u001b[32m━━━━━━━━━━━━━\u001b[0m\u001b[37m━━━━━━━\u001b[0m \u001b[1m0s\u001b[0m 1ms/step - accuracy: 0.8750 - loss: 0.2824"
     ]
    }
   ],
   "source": [
    "ann_model = Sequential()\n",
    "ann_model.add(Input(shape=(19,)))  # Input layer with 19 features\n",
    "ann_model.add(Dense(32, activation='relu'))  # First hidden layer with 32 neurons\n",
    "ann_model.add(Dense(16, activation='relu'))  # Second hidden layer with 16 neurons\n",
    "ann_model.add(Dense(1, activation='sigmoid')) # Output Layer\n",
    "\n",
    "ann_model.compile(optimizer='adam', loss='binary_crossentropy', metrics=['accuracy'])\n",
    "churn = ann_model.fit(x_train_scaled, y_train, epochs=100)"
   ]
  },
  {
   "cell_type": "code",
   "execution_count": null,
   "id": "f00da47f-c3fd-467e-a042-2c109cd0c9b2",
   "metadata": {},
   "outputs": [],
   "source": [
    "y_pred_ann = ann_model.predict(x_test_scaled)\n",
    "y_pred_binary = (y_pred_ann > 0.5).astype(int)\n",
    "\n",
    "accuracy = accuracy_score(y_test, y_pred_binary) \n",
    "print(f\"Accuracy = {format(accuracy)}\") \n",
    "\n",
    "print(f\"\\nClassification Report of ANN:\\n{classification_report(y_test, y_pred_binary, digits=4)}\") \n",
    "plot_confusion_matrix(confusion_matrix(y_test, y_pred_binary)) # Computes the confusion matrix"
   ]
  },
  {
   "cell_type": "code",
   "execution_count": null,
   "id": "bf37ffb7-dde0-45e2-9418-2e5e828e4734",
   "metadata": {},
   "outputs": [],
   "source": []
  }
 ],
 "metadata": {
  "kernelspec": {
   "display_name": "Python 3 (ipykernel)",
   "language": "python",
   "name": "python3"
  },
  "language_info": {
   "codemirror_mode": {
    "name": "ipython",
    "version": 3
   },
   "file_extension": ".py",
   "mimetype": "text/x-python",
   "name": "python",
   "nbconvert_exporter": "python",
   "pygments_lexer": "ipython3",
   "version": "3.12.7"
  }
 },
 "nbformat": 4,
 "nbformat_minor": 5
}
