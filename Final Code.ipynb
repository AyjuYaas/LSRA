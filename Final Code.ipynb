{
 "cells": [
  {
   "cell_type": "markdown",
   "id": "162c8885",
   "metadata": {},
   "source": [
    "A Code with dropped null value and different Oversampler"
   ]
  },
  {
   "cell_type": "code",
   "execution_count": 19,
   "id": "ea6aea3e-9a84-4aca-97e7-af3c28bae49b",
   "metadata": {},
   "outputs": [],
   "source": [
    "import pandas as pd"
   ]
  },
  {
   "cell_type": "code",
   "execution_count": 20,
   "id": "f2a876ad-a661-4c70-a360-85764966d035",
   "metadata": {},
   "outputs": [
    {
     "name": "stdout",
     "output_type": "stream",
     "text": [
      "      CustomerID  Churn  Tenure PreferredLoginDevice  CityTier  \\\n",
      "0          50001      1     4.0         Mobile Phone         3   \n",
      "1          50002      1     NaN                Phone         1   \n",
      "2          50003      1     NaN                Phone         1   \n",
      "3          50004      1     0.0                Phone         3   \n",
      "4          50005      1     0.0                Phone         1   \n",
      "...          ...    ...     ...                  ...       ...   \n",
      "5625       55626      0    10.0             Computer         1   \n",
      "5626       55627      0    13.0         Mobile Phone         1   \n",
      "5627       55628      0     1.0         Mobile Phone         1   \n",
      "5628       55629      0    23.0             Computer         3   \n",
      "5629       55630      0     8.0         Mobile Phone         1   \n",
      "\n",
      "      WarehouseToHome PreferredPaymentMode  Gender  HourSpendOnApp  \\\n",
      "0                 6.0           Debit Card  Female             3.0   \n",
      "1                 8.0                  UPI    Male             3.0   \n",
      "2                30.0           Debit Card    Male             2.0   \n",
      "3                15.0           Debit Card    Male             2.0   \n",
      "4                12.0                   CC    Male             NaN   \n",
      "...               ...                  ...     ...             ...   \n",
      "5625             30.0          Credit Card    Male             3.0   \n",
      "5626             13.0          Credit Card    Male             3.0   \n",
      "5627             11.0           Debit Card    Male             3.0   \n",
      "5628              9.0          Credit Card    Male             4.0   \n",
      "5629             15.0          Credit Card    Male             3.0   \n",
      "\n",
      "      NumberOfDeviceRegistered    PreferedOrderCat  SatisfactionScore  \\\n",
      "0                            3  Laptop & Accessory                  2   \n",
      "1                            4              Mobile                  3   \n",
      "2                            4              Mobile                  3   \n",
      "3                            4  Laptop & Accessory                  5   \n",
      "4                            3              Mobile                  5   \n",
      "...                        ...                 ...                ...   \n",
      "5625                         2  Laptop & Accessory                  1   \n",
      "5626                         5             Fashion                  5   \n",
      "5627                         2  Laptop & Accessory                  4   \n",
      "5628                         5  Laptop & Accessory                  4   \n",
      "5629                         2  Laptop & Accessory                  3   \n",
      "\n",
      "     MaritalStatus  NumberOfAddress  Complain  OrderAmountHikeFromlastYear  \\\n",
      "0           Single                9         1                         11.0   \n",
      "1           Single                7         1                         15.0   \n",
      "2           Single                6         1                         14.0   \n",
      "3           Single                8         0                         23.0   \n",
      "4           Single                3         0                         11.0   \n",
      "...            ...              ...       ...                          ...   \n",
      "5625       Married                6         0                         18.0   \n",
      "5626       Married                6         0                         16.0   \n",
      "5627       Married                3         1                         21.0   \n",
      "5628       Married                4         0                         15.0   \n",
      "5629       Married                4         0                         13.0   \n",
      "\n",
      "      CouponUsed  OrderCount  DaySinceLastOrder  CashbackAmount  \n",
      "0            1.0         1.0                5.0          159.93  \n",
      "1            0.0         1.0                0.0          120.90  \n",
      "2            0.0         1.0                3.0          120.28  \n",
      "3            0.0         1.0                3.0          134.07  \n",
      "4            1.0         1.0                3.0          129.60  \n",
      "...          ...         ...                ...             ...  \n",
      "5625         1.0         2.0                4.0          150.71  \n",
      "5626         1.0         2.0                NaN          224.91  \n",
      "5627         1.0         2.0                4.0          186.42  \n",
      "5628         2.0         2.0                9.0          178.90  \n",
      "5629         2.0         2.0                3.0          169.04  \n",
      "\n",
      "[5630 rows x 20 columns]\n"
     ]
    }
   ],
   "source": [
    "# Opening the Excel\n",
    "data = pd.read_excel('./E Commerce Dataset.xlsx', sheet_name='E Comm')\n",
    "print(data)"
   ]
  },
  {
   "cell_type": "code",
   "execution_count": 21,
   "id": "5d351acf-42ff-418c-b676-c466e47825a7",
   "metadata": {},
   "outputs": [
    {
     "name": "stdout",
     "output_type": "stream",
     "text": [
      "PreferredLoginDevice ---> ['Mobile Phone' 'Phone' 'Computer']\n",
      "\n",
      "PreferredPaymentMode ---> ['Debit Card' 'UPI' 'CC' 'Cash on Delivery' 'E wallet' 'COD' 'Credit Card']\n",
      "\n",
      "Gender ---> ['Female' 'Male']\n",
      "\n",
      "PreferedOrderCat ---> ['Laptop & Accessory' 'Mobile' 'Mobile Phone' 'Others' 'Fashion' 'Grocery']\n",
      "\n",
      "MaritalStatus ---> ['Single' 'Divorced' 'Married']\n",
      "\n"
     ]
    }
   ],
   "source": [
    "# Check for unique values of the object datatype\n",
    "cat_cols = data.dtypes[data.dtypes == 'object'].index\n",
    "\n",
    "for i in cat_cols:\n",
    "    print(f\"{i} ---> {data[i].unique()}\")\n",
    "    print()"
   ]
  },
  {
   "cell_type": "code",
   "execution_count": 22,
   "id": "0f76e1c4-b156-42ca-afba-de0676911001",
   "metadata": {},
   "outputs": [],
   "source": [
    "data.loc[data['PreferredLoginDevice'] == 'Phone', 'PreferredLoginDevice' ] = 'Mobile Phone'\n",
    "data.loc[data['PreferedOrderCat'] == 'Mobile', 'PreferedOrderCat' ] = 'Mobile Phone'\n",
    "data.loc[data['PreferredPaymentMode'] == 'COD', 'PreferredPaymentMode' ] = 'Cash on Delivery'  \n",
    "data.loc[data['PreferredPaymentMode'] == 'CC', 'PreferredPaymentMode' ] = 'Credit Card'"
   ]
  },
  {
   "cell_type": "code",
   "execution_count": 23,
   "id": "b9ab3ffc-9c71-4935-816d-7138543114fb",
   "metadata": {},
   "outputs": [
    {
     "name": "stdout",
     "output_type": "stream",
     "text": [
      "PreferredLoginDevice ---> ['Mobile Phone' 'Computer']\n",
      "\n",
      "PreferredPaymentMode ---> ['Debit Card' 'UPI' 'Credit Card' 'Cash on Delivery' 'E wallet']\n",
      "\n",
      "Gender ---> ['Female' 'Male']\n",
      "\n",
      "PreferedOrderCat ---> ['Laptop & Accessory' 'Mobile Phone' 'Others' 'Fashion' 'Grocery']\n",
      "\n",
      "MaritalStatus ---> ['Single' 'Divorced' 'Married']\n",
      "\n"
     ]
    }
   ],
   "source": [
    "cat_cols = data.dtypes[data.dtypes == 'object'].index\n",
    "\n",
    "for i in cat_cols:\n",
    "    print(f\"{i} ---> {data[i].unique()}\")\n",
    "    print()"
   ]
  },
  {
   "cell_type": "code",
   "execution_count": 24,
   "id": "c4283d50-db12-4658-976d-70b2724384fd",
   "metadata": {},
   "outputs": [
    {
     "name": "stdout",
     "output_type": "stream",
     "text": [
      "<class 'pandas.core.frame.DataFrame'>\n",
      "RangeIndex: 5630 entries, 0 to 5629\n",
      "Data columns (total 20 columns):\n",
      " #   Column                       Non-Null Count  Dtype  \n",
      "---  ------                       --------------  -----  \n",
      " 0   CustomerID                   5630 non-null   int64  \n",
      " 1   Churn                        5630 non-null   int64  \n",
      " 2   Tenure                       5366 non-null   float64\n",
      " 3   PreferredLoginDevice         5630 non-null   object \n",
      " 4   CityTier                     5630 non-null   int64  \n",
      " 5   WarehouseToHome              5379 non-null   float64\n",
      " 6   PreferredPaymentMode         5630 non-null   object \n",
      " 7   Gender                       5630 non-null   object \n",
      " 8   HourSpendOnApp               5375 non-null   float64\n",
      " 9   NumberOfDeviceRegistered     5630 non-null   int64  \n",
      " 10  PreferedOrderCat             5630 non-null   object \n",
      " 11  SatisfactionScore            5630 non-null   int64  \n",
      " 12  MaritalStatus                5630 non-null   object \n",
      " 13  NumberOfAddress              5630 non-null   int64  \n",
      " 14  Complain                     5630 non-null   int64  \n",
      " 15  OrderAmountHikeFromlastYear  5365 non-null   float64\n",
      " 16  CouponUsed                   5374 non-null   float64\n",
      " 17  OrderCount                   5372 non-null   float64\n",
      " 18  DaySinceLastOrder            5323 non-null   float64\n",
      " 19  CashbackAmount               5630 non-null   float64\n",
      "dtypes: float64(8), int64(7), object(5)\n",
      "memory usage: 879.8+ KB\n"
     ]
    }
   ],
   "source": [
    "# Data type in the data set and column\n",
    "data.info()\n",
    "\n",
    "# Convert all the data type into integer\n",
    "from sklearn.preprocessing import LabelEncoder # Convert objects into numerical values\n",
    "\n",
    "label_encoder = LabelEncoder()\n",
    "for column in data.select_dtypes(include='object'):\n",
    "    data[column] = label_encoder.fit_transform(data[column])"
   ]
  },
  {
   "cell_type": "code",
   "execution_count": 25,
   "id": "db18ff71-24de-40ef-ad12-5458fac1ddd6",
   "metadata": {},
   "outputs": [
    {
     "name": "stdout",
     "output_type": "stream",
     "text": [
      "<class 'pandas.core.frame.DataFrame'>\n",
      "RangeIndex: 5630 entries, 0 to 5629\n",
      "Data columns (total 20 columns):\n",
      " #   Column                       Non-Null Count  Dtype  \n",
      "---  ------                       --------------  -----  \n",
      " 0   CustomerID                   5630 non-null   int64  \n",
      " 1   Churn                        5630 non-null   int64  \n",
      " 2   Tenure                       5366 non-null   float64\n",
      " 3   PreferredLoginDevice         5630 non-null   int32  \n",
      " 4   CityTier                     5630 non-null   int64  \n",
      " 5   WarehouseToHome              5379 non-null   float64\n",
      " 6   PreferredPaymentMode         5630 non-null   int32  \n",
      " 7   Gender                       5630 non-null   int32  \n",
      " 8   HourSpendOnApp               5375 non-null   float64\n",
      " 9   NumberOfDeviceRegistered     5630 non-null   int64  \n",
      " 10  PreferedOrderCat             5630 non-null   int32  \n",
      " 11  SatisfactionScore            5630 non-null   int64  \n",
      " 12  MaritalStatus                5630 non-null   int32  \n",
      " 13  NumberOfAddress              5630 non-null   int64  \n",
      " 14  Complain                     5630 non-null   int64  \n",
      " 15  OrderAmountHikeFromlastYear  5365 non-null   float64\n",
      " 16  CouponUsed                   5374 non-null   float64\n",
      " 17  OrderCount                   5372 non-null   float64\n",
      " 18  DaySinceLastOrder            5323 non-null   float64\n",
      " 19  CashbackAmount               5630 non-null   float64\n",
      "dtypes: float64(8), int32(5), int64(7)\n",
      "memory usage: 769.9 KB\n"
     ]
    }
   ],
   "source": [
    "# Checking the data types again\n",
    "data.info()"
   ]
  },
  {
   "cell_type": "code",
   "execution_count": 26,
   "id": "2a6eece0-8c52-4f46-8f36-740063bea22b",
   "metadata": {},
   "outputs": [
    {
     "data": {
      "text/plain": [
       "CustomerID                       0\n",
       "Churn                            0\n",
       "Tenure                         264\n",
       "PreferredLoginDevice             0\n",
       "CityTier                         0\n",
       "WarehouseToHome                251\n",
       "PreferredPaymentMode             0\n",
       "Gender                           0\n",
       "HourSpendOnApp                 255\n",
       "NumberOfDeviceRegistered         0\n",
       "PreferedOrderCat                 0\n",
       "SatisfactionScore                0\n",
       "MaritalStatus                    0\n",
       "NumberOfAddress                  0\n",
       "Complain                         0\n",
       "OrderAmountHikeFromlastYear    265\n",
       "CouponUsed                     256\n",
       "OrderCount                     258\n",
       "DaySinceLastOrder              307\n",
       "CashbackAmount                   0\n",
       "dtype: int64"
      ]
     },
     "execution_count": 26,
     "metadata": {},
     "output_type": "execute_result"
    }
   ],
   "source": [
    "# Missing Data\n",
    "data.isnull().sum()"
   ]
  },
  {
   "cell_type": "code",
   "execution_count": 27,
   "id": "cdc89890-e12b-47e8-96d9-7a9ec8e70226",
   "metadata": {},
   "outputs": [],
   "source": [
    "data.dropna(inplace=True)"
   ]
  },
  {
   "cell_type": "code",
   "execution_count": 28,
   "id": "7327018a-b994-4521-923e-4f6924c6b761",
   "metadata": {},
   "outputs": [
    {
     "data": {
      "text/plain": [
       "Churn\n",
       "0    3143\n",
       "1     631\n",
       "Name: count, dtype: int64"
      ]
     },
     "execution_count": 28,
     "metadata": {},
     "output_type": "execute_result"
    }
   ],
   "source": [
    "# Number of Churners vs Non-Churners\n",
    "data['Churn'].value_counts()"
   ]
  },
  {
   "cell_type": "code",
   "execution_count": 29,
   "id": "d5507239-5f26-4e94-8143-fdc9880a14c8",
   "metadata": {},
   "outputs": [
    {
     "data": {
      "text/plain": [
       "((6134, 19), (6134,))"
      ]
     },
     "execution_count": 29,
     "metadata": {},
     "output_type": "execute_result"
    }
   ],
   "source": [
    "x = data.drop(['Churn'], axis = 1)\n",
    "y = data['Churn']\n",
    "\n",
    "# Handle Class Imbalance as non-churners are far more than churners\n",
    "from imblearn.combine import SMOTETomek\n",
    "smt = SMOTETomek(random_state=42)\n",
    "x_over , y_over = smt.fit_resample(x , y)\n",
    "\n",
    "x_over.shape, y_over.shape"
   ]
  },
  {
   "cell_type": "code",
   "execution_count": 30,
   "id": "e4749717",
   "metadata": {},
   "outputs": [],
   "source": [
    "from  sklearn.model_selection import train_test_split\n",
    "x_train, x_test, y_train, y_test = train_test_split(x_over, y_over, test_size=0.3, random_state=42)\n",
    "\n",
    "# Now we  will make normalization for all data to make them in common range\n",
    "from sklearn.preprocessing import RobustScaler\n",
    "\n",
    "MN = RobustScaler()\n",
    "x_train_scaled = MN.fit_transform(x_train)\n",
    "x_test_scaled = MN.fit_transform(x_test)"
   ]
  },
  {
   "cell_type": "code",
   "execution_count": 31,
   "id": "f973525e-2760-4b8c-812b-492e697c0ab9",
   "metadata": {},
   "outputs": [
    {
     "name": "stdout",
     "output_type": "stream",
     "text": [
      "Accuracy = 0.8984247691472026\n",
      "\n",
      "Classification Report of Random Forest:\n",
      "              precision    recall  f1-score   support\n",
      "\n",
      "           0     0.9721    0.8228    0.8912       931\n",
      "           1     0.8433    0.9758    0.9047       910\n",
      "\n",
      "    accuracy                         0.8984      1841\n",
      "   macro avg     0.9077    0.8993    0.8980      1841\n",
      "weighted avg     0.9084    0.8984    0.8979      1841\n",
      "\n"
     ]
    },
    {
     "data": {
      "text/plain": [
       "(<Figure size 640x480 with 1 Axes>,\n",
       " <Axes: xlabel='predicted label', ylabel='true label'>)"
      ]
     },
     "execution_count": 31,
     "metadata": {},
     "output_type": "execute_result"
    },
    {
     "data": {
      "image/png": "[encoded data removed]",
      "text/plain": [
       "<Figure size 640x480 with 1 Axes>"
      ]
     },
     "metadata": {},
     "output_type": "display_data"
    }
   ],
   "source": [
    "# Usually need to install using 'pip install mlxtend' in cmd\n",
    "from mlxtend.plotting import plot_confusion_matrix\n",
    "from sklearn.metrics import accuracy_score, classification_report, confusion_matrix\n",
    "from sklearn.ensemble import RandomForestClassifier\n",
    "\n",
    "rf_model = RandomForestClassifier()\n",
    "\n",
    "# Trains the model on the normalized training data\n",
    "rf_model.fit(x_train_scaled, y_train) \n",
    "\n",
    "# After training, we use it to predict the churn\n",
    "y_pred_rf = rf_model.predict(x_test_scaled) \n",
    "\n",
    "# After prediction for accuracy testing\n",
    "# Test the accuracy of predicted to the test or known data\n",
    "accuracy = accuracy_score(y_test, y_pred_rf) \n",
    "\n",
    "print(f\"Accuracy = {format(accuracy)}\") \n",
    "\n",
    "print(f\"\\nClassification Report of Random Forest:\\n{classification_report(y_test, y_pred_rf, digits=4)}\") \n",
    "plot_confusion_matrix(confusion_matrix(y_test , y_pred_rf)) # Computes the confusion matrix"
   ]
  },
  {
   "cell_type": "code",
   "execution_count": 44,
   "id": "bf37ffb7-dde0-45e2-9418-2e5e828e4734",
   "metadata": {},
   "outputs": [
    {
     "name": "stdout",
     "output_type": "stream",
     "text": [
      "Accuracy = 0.7903313416621401\n",
      "\n",
      "Classification Report of AdaBoost:\n",
      "              precision    recall  f1-score   support\n",
      "\n",
      "           0     0.8697    0.6885    0.7686       931\n",
      "           1     0.7373    0.8945    0.8083       910\n",
      "\n",
      "    accuracy                         0.7903      1841\n",
      "   macro avg     0.8035    0.7915    0.7885      1841\n",
      "weighted avg     0.8043    0.7903    0.7882      1841\n",
      "\n"
     ]
    },
    {
     "data": {
      "text/plain": [
       "(<Figure size 640x480 with 1 Axes>,\n",
       " <Axes: xlabel='predicted label', ylabel='true label'>)"
      ]
     },
     "execution_count": 44,
     "metadata": {},
     "output_type": "execute_result"
    },
    {
     "data": {
      "image/png": "[encoded data removed]",
      "text/plain": [
       "<Figure size 640x480 with 1 Axes>"
      ]
     },
     "metadata": {},
     "output_type": "display_data"
    }
   ],
   "source": [
    "from sklearn.ensemble import AdaBoostClassifier\n",
    "\n",
    "ada_clf = AdaBoostClassifier(algorithm='SAMME', random_state=42, learning_rate=0.3, n_estimators=300)\n",
    "# Trains the model on the normalized training data\n",
    "ada_clf.fit(x_train_scaled, y_train) \n",
    "\n",
    "# After training, we use it to predict the churn\n",
    "y_pred_ada = ada_clf.predict(x_test_scaled) \n",
    "\n",
    "# After prediction for accuracy testing\n",
    "# Test the accuracy of predicted to the test or known data\n",
    "accuracy = accuracy_score(y_test, y_pred_ada) \n",
    "\n",
    "print(f\"Accuracy = {format(accuracy)}\") \n",
    "\n",
    "print(f\"\\nClassification Report of AdaBoost:\\n{classification_report(y_test, y_pred_ada, digits=4)}\") \n",
    "plot_confusion_matrix(confusion_matrix(y_test , y_pred_ada)) # Computes the confusion matrix"
   ]
  },
  {
   "cell_type": "code",
   "execution_count": 33,
   "id": "8dba9093-d994-4a1e-8793-0bec926bfb5e",
   "metadata": {},
   "outputs": [],
   "source": [
    "from tensorflow.keras.models import Sequential # type: ignore\n",
    "from tensorflow.keras.layers import Input, Dense # type: ignore"
   ]
  },
  {
   "cell_type": "code",
   "execution_count": 34,
   "id": "d8a13e0e-139e-4072-8119-d8d7492da084",
   "metadata": {},
   "outputs": [
    {
     "name": "stdout",
     "output_type": "stream",
     "text": [
      "Epoch 1/50\n",
      "\u001b[1m135/135\u001b[0m \u001b[32m━━━━━━━━━━━━━━━━━━━━\u001b[0m\u001b[37m\u001b[0m \u001b[1m1s\u001b[0m 1ms/step - accuracy: 0.5919 - loss: 0.6693  \n",
      "Epoch 2/50\n",
      "\u001b[1m135/135\u001b[0m \u001b[32m━━━━━━━━━━━━━━━━━━━━\u001b[0m\u001b[37m\u001b[0m \u001b[1m0s\u001b[0m 1ms/step - accuracy: 0.7880 - loss: 0.5021\n",
      "Epoch 3/50\n",
      "\u001b[1m135/135\u001b[0m \u001b[32m━━━━━━━━━━━━━━━━━━━━\u001b[0m\u001b[37m\u001b[0m \u001b[1m0s\u001b[0m 1ms/step - accuracy: 0.8226 - loss: 0.4251\n",
      "Epoch 4/50\n",
      "\u001b[1m135/135\u001b[0m \u001b[32m━━━━━━━━━━━━━━━━━━━━\u001b[0m\u001b[37m\u001b[0m \u001b[1m0s\u001b[0m 1ms/step - accuracy: 0.8303 - loss: 0.3966  \n",
      "Epoch 5/50\n",
      "\u001b[1m135/135\u001b[0m \u001b[32m━━━━━━━━━━━━━━━━━━━━\u001b[0m\u001b[37m\u001b[0m \u001b[1m0s\u001b[0m 1ms/step - accuracy: 0.8333 - loss: 0.3847\n",
      "Epoch 6/50\n",
      "\u001b[1m135/135\u001b[0m \u001b[32m━━━━━━━━━━━━━━━━━━━━\u001b[0m\u001b[37m\u001b[0m \u001b[1m0s\u001b[0m 1ms/step - accuracy: 0.8401 - loss: 0.3723  \n",
      "Epoch 7/50\n",
      "\u001b[1m135/135\u001b[0m \u001b[32m━━━━━━━━━━━━━━━━━━━━\u001b[0m\u001b[37m\u001b[0m \u001b[1m0s\u001b[0m 1ms/step - accuracy: 0.8511 - loss: 0.3577\n",
      "Epoch 8/50\n",
      "\u001b[1m135/135\u001b[0m \u001b[32m━━━━━━━━━━━━━━━━━━━━\u001b[0m\u001b[37m\u001b[0m \u001b[1m0s\u001b[0m 1ms/step - accuracy: 0.8464 - loss: 0.3561  \n",
      "Epoch 9/50\n",
      "\u001b[1m135/135\u001b[0m \u001b[32m━━━━━━━━━━━━━━━━━━━━\u001b[0m\u001b[37m\u001b[0m \u001b[1m0s\u001b[0m 1ms/step - accuracy: 0.8563 - loss: 0.3365  \n",
      "Epoch 10/50\n",
      "\u001b[1m135/135\u001b[0m \u001b[32m━━━━━━━━━━━━━━━━━━━━\u001b[0m\u001b[37m\u001b[0m \u001b[1m0s\u001b[0m 1ms/step - accuracy: 0.8644 - loss: 0.3256\n",
      "Epoch 11/50\n",
      "\u001b[1m135/135\u001b[0m \u001b[32m━━━━━━━━━━━━━━━━━━━━\u001b[0m\u001b[37m\u001b[0m \u001b[1m0s\u001b[0m 1ms/step - accuracy: 0.8614 - loss: 0.3306  \n",
      "Epoch 12/50\n",
      "\u001b[1m135/135\u001b[0m \u001b[32m━━━━━━━━━━━━━━━━━━━━\u001b[0m\u001b[37m\u001b[0m \u001b[1m0s\u001b[0m 1ms/step - accuracy: 0.8674 - loss: 0.3167  \n",
      "Epoch 13/50\n",
      "\u001b[1m135/135\u001b[0m \u001b[32m━━━━━━━━━━━━━━━━━━━━\u001b[0m\u001b[37m\u001b[0m \u001b[1m0s\u001b[0m 1ms/step - accuracy: 0.8763 - loss: 0.3103  \n",
      "Epoch 14/50\n",
      "\u001b[1m135/135\u001b[0m \u001b[32m━━━━━━━━━━━━━━━━━━━━\u001b[0m\u001b[37m\u001b[0m \u001b[1m0s\u001b[0m 1ms/step - accuracy: 0.8748 - loss: 0.2968   \n",
      "Epoch 15/50\n",
      "\u001b[1m135/135\u001b[0m \u001b[32m━━━━━━━━━━━━━━━━━━━━\u001b[0m\u001b[37m\u001b[0m \u001b[1m0s\u001b[0m 1ms/step - accuracy: 0.8787 - loss: 0.2907  \n",
      "Epoch 16/50\n",
      "\u001b[1m135/135\u001b[0m \u001b[32m━━━━━━━━━━━━━━━━━━━━\u001b[0m\u001b[37m\u001b[0m \u001b[1m0s\u001b[0m 1ms/step - accuracy: 0.8822 - loss: 0.2831\n",
      "Epoch 17/50\n",
      "\u001b[1m135/135\u001b[0m \u001b[32m━━━━━━━━━━━━━━━━━━━━\u001b[0m\u001b[37m\u001b[0m \u001b[1m0s\u001b[0m 1ms/step - accuracy: 0.8758 - loss: 0.2871\n",
      "Epoch 18/50\n",
      "\u001b[1m135/135\u001b[0m \u001b[32m━━━━━━━━━━━━━━━━━━━━\u001b[0m\u001b[37m\u001b[0m \u001b[1m0s\u001b[0m 1ms/step - accuracy: 0.8805 - loss: 0.2755  \n",
      "Epoch 19/50\n",
      "\u001b[1m135/135\u001b[0m \u001b[32m━━━━━━━━━━━━━━━━━━━━\u001b[0m\u001b[37m\u001b[0m \u001b[1m0s\u001b[0m 1ms/step - accuracy: 0.8742 - loss: 0.2760\n",
      "Epoch 20/50\n",
      "\u001b[1m135/135\u001b[0m \u001b[32m━━━━━━━━━━━━━━━━━━━━\u001b[0m\u001b[37m\u001b[0m \u001b[1m0s\u001b[0m 1ms/step - accuracy: 0.8878 - loss: 0.2561\n",
      "Epoch 21/50\n",
      "\u001b[1m135/135\u001b[0m \u001b[32m━━━━━━━━━━━━━━━━━━━━\u001b[0m\u001b[37m\u001b[0m \u001b[1m0s\u001b[0m 1ms/step - accuracy: 0.8895 - loss: 0.2605\n",
      "Epoch 22/50\n",
      "\u001b[1m135/135\u001b[0m \u001b[32m━━━━━━━━━━━━━━━━━━━━\u001b[0m\u001b[37m\u001b[0m \u001b[1m0s\u001b[0m 1ms/step - accuracy: 0.8934 - loss: 0.2540\n",
      "Epoch 23/50\n",
      "\u001b[1m135/135\u001b[0m \u001b[32m━━━━━━━━━━━━━━━━━━━━\u001b[0m\u001b[37m\u001b[0m \u001b[1m0s\u001b[0m 1ms/step - accuracy: 0.8888 - loss: 0.2530\n",
      "Epoch 24/50\n",
      "\u001b[1m135/135\u001b[0m \u001b[32m━━━━━━━━━━━━━━━━━━━━\u001b[0m\u001b[37m\u001b[0m \u001b[1m0s\u001b[0m 1ms/step - accuracy: 0.9010 - loss: 0.2353  \n",
      "Epoch 25/50\n",
      "\u001b[1m135/135\u001b[0m \u001b[32m━━━━━━━━━━━━━━━━━━━━\u001b[0m\u001b[37m\u001b[0m \u001b[1m0s\u001b[0m 1ms/step - accuracy: 0.8915 - loss: 0.2479  \n",
      "Epoch 26/50\n",
      "\u001b[1m135/135\u001b[0m \u001b[32m━━━━━━━━━━━━━━━━━━━━\u001b[0m\u001b[37m\u001b[0m \u001b[1m0s\u001b[0m 1ms/step - accuracy: 0.8974 - loss: 0.2343\n",
      "Epoch 27/50\n",
      "\u001b[1m135/135\u001b[0m \u001b[32m━━━━━━━━━━━━━━━━━━━━\u001b[0m\u001b[37m\u001b[0m \u001b[1m0s\u001b[0m 1ms/step - accuracy: 0.8998 - loss: 0.2281\n",
      "Epoch 28/50\n",
      "\u001b[1m135/135\u001b[0m \u001b[32m━━━━━━━━━━━━━━━━━━━━\u001b[0m\u001b[37m\u001b[0m \u001b[1m0s\u001b[0m 1ms/step - accuracy: 0.9095 - loss: 0.2201\n",
      "Epoch 29/50\n",
      "\u001b[1m135/135\u001b[0m \u001b[32m━━━━━━━━━━━━━━━━━━━━\u001b[0m\u001b[37m\u001b[0m \u001b[1m0s\u001b[0m 1ms/step - accuracy: 0.9074 - loss: 0.2141\n",
      "Epoch 30/50\n",
      "\u001b[1m135/135\u001b[0m \u001b[32m━━━━━━━━━━━━━━━━━━━━\u001b[0m\u001b[37m\u001b[0m \u001b[1m0s\u001b[0m 1ms/step - accuracy: 0.9036 - loss: 0.2178\n",
      "Epoch 31/50\n",
      "\u001b[1m135/135\u001b[0m \u001b[32m━━━━━━━━━━━━━━━━━━━━\u001b[0m\u001b[37m\u001b[0m \u001b[1m0s\u001b[0m 1ms/step - accuracy: 0.9105 - loss: 0.2168  \n",
      "Epoch 32/50\n",
      "\u001b[1m135/135\u001b[0m \u001b[32m━━━━━━━━━━━━━━━━━━━━\u001b[0m\u001b[37m\u001b[0m \u001b[1m0s\u001b[0m 1ms/step - accuracy: 0.9025 - loss: 0.2204  \n",
      "Epoch 33/50\n",
      "\u001b[1m135/135\u001b[0m \u001b[32m━━━━━━━━━━━━━━━━━━━━\u001b[0m\u001b[37m\u001b[0m \u001b[1m0s\u001b[0m 1ms/step - accuracy: 0.9078 - loss: 0.2230  \n",
      "Epoch 34/50\n",
      "\u001b[1m135/135\u001b[0m \u001b[32m━━━━━━━━━━━━━━━━━━━━\u001b[0m\u001b[37m\u001b[0m \u001b[1m0s\u001b[0m 1ms/step - accuracy: 0.9120 - loss: 0.2096  \n",
      "Epoch 35/50\n",
      "\u001b[1m135/135\u001b[0m \u001b[32m━━━━━━━━━━━━━━━━━━━━\u001b[0m\u001b[37m\u001b[0m \u001b[1m0s\u001b[0m 1ms/step - accuracy: 0.9201 - loss: 0.2003\n",
      "Epoch 36/50\n",
      "\u001b[1m135/135\u001b[0m \u001b[32m━━━━━━━━━━━━━━━━━━━━\u001b[0m\u001b[37m\u001b[0m \u001b[1m0s\u001b[0m 1ms/step - accuracy: 0.9151 - loss: 0.1958\n",
      "Epoch 37/50\n",
      "\u001b[1m135/135\u001b[0m \u001b[32m━━━━━━━━━━━━━━━━━━━━\u001b[0m\u001b[37m\u001b[0m \u001b[1m0s\u001b[0m 1ms/step - accuracy: 0.9191 - loss: 0.1915\n",
      "Epoch 38/50\n",
      "\u001b[1m135/135\u001b[0m \u001b[32m━━━━━━━━━━━━━━━━━━━━\u001b[0m\u001b[37m\u001b[0m \u001b[1m0s\u001b[0m 1ms/step - accuracy: 0.9179 - loss: 0.1918  \n",
      "Epoch 39/50\n",
      "\u001b[1m135/135\u001b[0m \u001b[32m━━━━━━━━━━━━━━━━━━━━\u001b[0m\u001b[37m\u001b[0m \u001b[1m0s\u001b[0m 1ms/step - accuracy: 0.9254 - loss: 0.1883\n",
      "Epoch 40/50\n",
      "\u001b[1m135/135\u001b[0m \u001b[32m━━━━━━━━━━━━━━━━━━━━\u001b[0m\u001b[37m\u001b[0m \u001b[1m0s\u001b[0m 1ms/step - accuracy: 0.9129 - loss: 0.1945  \n",
      "Epoch 41/50\n",
      "\u001b[1m135/135\u001b[0m \u001b[32m━━━━━━━━━━━━━━━━━━━━\u001b[0m\u001b[37m\u001b[0m \u001b[1m0s\u001b[0m 1ms/step - accuracy: 0.9219 - loss: 0.1867  \n",
      "Epoch 42/50\n",
      "\u001b[1m135/135\u001b[0m \u001b[32m━━━━━━━━━━━━━━━━━━━━\u001b[0m\u001b[37m\u001b[0m \u001b[1m0s\u001b[0m 1ms/step - accuracy: 0.9199 - loss: 0.1938  \n",
      "Epoch 43/50\n",
      "\u001b[1m135/135\u001b[0m \u001b[32m━━━━━━━━━━━━━━━━━━━━\u001b[0m\u001b[37m\u001b[0m \u001b[1m0s\u001b[0m 1ms/step - accuracy: 0.9185 - loss: 0.1877  \n",
      "Epoch 44/50\n",
      "\u001b[1m135/135\u001b[0m \u001b[32m━━━━━━━━━━━━━━━━━━━━\u001b[0m\u001b[37m\u001b[0m \u001b[1m0s\u001b[0m 1ms/step - accuracy: 0.9261 - loss: 0.1763  \n",
      "Epoch 45/50\n",
      "\u001b[1m135/135\u001b[0m \u001b[32m━━━━━━━━━━━━━━━━━━━━\u001b[0m\u001b[37m\u001b[0m \u001b[1m0s\u001b[0m 1ms/step - accuracy: 0.9208 - loss: 0.1858  \n",
      "Epoch 46/50\n",
      "\u001b[1m135/135\u001b[0m \u001b[32m━━━━━━━━━━━━━━━━━━━━\u001b[0m\u001b[37m\u001b[0m \u001b[1m0s\u001b[0m 1ms/step - accuracy: 0.9219 - loss: 0.1870  \n",
      "Epoch 47/50\n",
      "\u001b[1m135/135\u001b[0m \u001b[32m━━━━━━━━━━━━━━━━━━━━\u001b[0m\u001b[37m\u001b[0m \u001b[1m0s\u001b[0m 1ms/step - accuracy: 0.9232 - loss: 0.1753\n",
      "Epoch 48/50\n",
      "\u001b[1m135/135\u001b[0m \u001b[32m━━━━━━━━━━━━━━━━━━━━\u001b[0m\u001b[37m\u001b[0m \u001b[1m0s\u001b[0m 1ms/step - accuracy: 0.9236 - loss: 0.1911\n",
      "Epoch 49/50\n",
      "\u001b[1m135/135\u001b[0m \u001b[32m━━━━━━━━━━━━━━━━━━━━\u001b[0m\u001b[37m\u001b[0m \u001b[1m0s\u001b[0m 1ms/step - accuracy: 0.9304 - loss: 0.1658  \n",
      "Epoch 50/50\n",
      "\u001b[1m135/135\u001b[0m \u001b[32m━━━━━━━━━━━━━━━━━━━━\u001b[0m\u001b[37m\u001b[0m \u001b[1m0s\u001b[0m 1ms/step - accuracy: 0.9314 - loss: 0.1698  \n"
     ]
    }
   ],
   "source": [
    "ann_model = Sequential()\n",
    "ann_model.add(Input(shape=(19,)))  # Input layer with 19 features\n",
    "ann_model.add(Dense(19, activation='relu'))  # First hidden layer with 32 neurons\n",
    "ann_model.add(Dense(32, activation='relu'))  # Second hidden layer with 16 neurons\n",
    "ann_model.add(Dense(1, activation='sigmoid')) # Output Layer\n",
    "\n",
    "ann_model.compile(optimizer='adam', loss='binary_crossentropy', metrics=['accuracy'])\n",
    "churn = ann_model.fit(x_train_scaled, y_train, epochs=50)"
   ]
  },
  {
   "cell_type": "code",
   "execution_count": 35,
   "id": "f00da47f-c3fd-467e-a042-2c109cd0c9b2",
   "metadata": {},
   "outputs": [
    {
     "name": "stdout",
     "output_type": "stream",
     "text": [
      "\u001b[1m58/58\u001b[0m \u001b[32m━━━━━━━━━━━━━━━━━━━━\u001b[0m\u001b[37m\u001b[0m \u001b[1m0s\u001b[0m 1ms/step  \n",
      "Accuracy = 0.8788701792504073\n",
      "\n",
      "Classification Report of ANN:\n",
      "              precision    recall  f1-score   support\n",
      "\n",
      "           0     0.8899    0.8679    0.8787       931\n",
      "           1     0.8682    0.8901    0.8790       910\n",
      "\n",
      "    accuracy                         0.8789      1841\n",
      "   macro avg     0.8790    0.8790    0.8789      1841\n",
      "weighted avg     0.8791    0.8789    0.8789      1841\n",
      "\n"
     ]
    },
    {
     "data": {
      "text/plain": [
       "(<Figure size 640x480 with 1 Axes>,\n",
       " <Axes: xlabel='predicted label', ylabel='true label'>)"
      ]
     },
     "execution_count": 35,
     "metadata": {},
     "output_type": "execute_result"
    },
    {
     "data": {
      "image/png": "[encoded data removed]",
      "text/plain": [
       "<Figure size 640x480 with 1 Axes>"
      ]
     },
     "metadata": {},
     "output_type": "display_data"
    }
   ],
   "source": [
    "y_pred_ann = ann_model.predict(x_test_scaled)\n",
    "y_pred_binary = (y_pred_ann > 0.5).astype(int)\n",
    "\n",
    "accuracy = accuracy_score(y_test, y_pred_binary) \n",
    "print(f\"Accuracy = {format(accuracy)}\") \n",
    "\n",
    "print(f\"\\nClassification Report of ANN:\\n{classification_report(y_test, y_pred_binary, digits=4)}\") \n",
    "plot_confusion_matrix(confusion_matrix(y_test, y_pred_binary)) # Computes the confusion matrix"
   ]
  }
 ],
 "metadata": {
  "kernelspec": {
   "display_name": "base",
   "language": "python",
   "name": "python3"
  },
  "language_info": {
   "codemirror_mode": {
    "name": "ipython",
    "version": 3
   },
   "file_extension": ".py",
   "mimetype": "text/x-python",
   "name": "python",
   "nbconvert_exporter": "python",
   "pygments_lexer": "ipython3",
   "version": "3.12.7"
  }
 },
 "nbformat": 4,
 "nbformat_minor": 5
}
