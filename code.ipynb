{
 "cells": [
  {
   "cell_type": "code",
   "execution_count": 73,
   "id": "ea6aea3e-9a84-4aca-97e7-af3c28bae49b",
   "metadata": {},
   "outputs": [],
   "source": [
    "import pandas as pd"
   ]
  },
  {
   "cell_type": "code",
   "execution_count": 74,
   "id": "f2a876ad-a661-4c70-a360-85764966d035",
   "metadata": {},
   "outputs": [
    {
     "name": "stdout",
     "output_type": "stream",
     "text": [
      "      CustomerID  Churn  Tenure PreferredLoginDevice  CityTier  \\\n",
      "0          50001      1     4.0         Mobile Phone         3   \n",
      "1          50002      1     NaN                Phone         1   \n",
      "2          50003      1     NaN                Phone         1   \n",
      "3          50004      1     0.0                Phone         3   \n",
      "4          50005      1     0.0                Phone         1   \n",
      "...          ...    ...     ...                  ...       ...   \n",
      "5625       55626      0    10.0             Computer         1   \n",
      "5626       55627      0    13.0         Mobile Phone         1   \n",
      "5627       55628      0     1.0         Mobile Phone         1   \n",
      "5628       55629      0    23.0             Computer         3   \n",
      "5629       55630      0     8.0         Mobile Phone         1   \n",
      "\n",
      "      WarehouseToHome PreferredPaymentMode  Gender  HourSpendOnApp  \\\n",
      "0                 6.0           Debit Card  Female             3.0   \n",
      "1                 8.0                  UPI    Male             3.0   \n",
      "2                30.0           Debit Card    Male             2.0   \n",
      "3                15.0           Debit Card    Male             2.0   \n",
      "4                12.0                   CC    Male             NaN   \n",
      "...               ...                  ...     ...             ...   \n",
      "5625             30.0          Credit Card    Male             3.0   \n",
      "5626             13.0          Credit Card    Male             3.0   \n",
      "5627             11.0           Debit Card    Male             3.0   \n",
      "5628              9.0          Credit Card    Male             4.0   \n",
      "5629             15.0          Credit Card    Male             3.0   \n",
      "\n",
      "      NumberOfDeviceRegistered    PreferedOrderCat  SatisfactionScore  \\\n",
      "0                            3  Laptop & Accessory                  2   \n",
      "1                            4              Mobile                  3   \n",
      "2                            4              Mobile                  3   \n",
      "3                            4  Laptop & Accessory                  5   \n",
      "4                            3              Mobile                  5   \n",
      "...                        ...                 ...                ...   \n",
      "5625                         2  Laptop & Accessory                  1   \n",
      "5626                         5             Fashion                  5   \n",
      "5627                         2  Laptop & Accessory                  4   \n",
      "5628                         5  Laptop & Accessory                  4   \n",
      "5629                         2  Laptop & Accessory                  3   \n",
      "\n",
      "     MaritalStatus  NumberOfAddress  Complain  OrderAmountHikeFromlastYear  \\\n",
      "0           Single                9         1                         11.0   \n",
      "1           Single                7         1                         15.0   \n",
      "2           Single                6         1                         14.0   \n",
      "3           Single                8         0                         23.0   \n",
      "4           Single                3         0                         11.0   \n",
      "...            ...              ...       ...                          ...   \n",
      "5625       Married                6         0                         18.0   \n",
      "5626       Married                6         0                         16.0   \n",
      "5627       Married                3         1                         21.0   \n",
      "5628       Married                4         0                         15.0   \n",
      "5629       Married                4         0                         13.0   \n",
      "\n",
      "      CouponUsed  OrderCount  DaySinceLastOrder  CashbackAmount  \n",
      "0            1.0         1.0                5.0          159.93  \n",
      "1            0.0         1.0                0.0          120.90  \n",
      "2            0.0         1.0                3.0          120.28  \n",
      "3            0.0         1.0                3.0          134.07  \n",
      "4            1.0         1.0                3.0          129.60  \n",
      "...          ...         ...                ...             ...  \n",
      "5625         1.0         2.0                4.0          150.71  \n",
      "5626         1.0         2.0                NaN          224.91  \n",
      "5627         1.0         2.0                4.0          186.42  \n",
      "5628         2.0         2.0                9.0          178.90  \n",
      "5629         2.0         2.0                3.0          169.04  \n",
      "\n",
      "[5630 rows x 20 columns]\n"
     ]
    }
   ],
   "source": [
    "# Opening the Excel\n",
    "data = pd.read_excel('./E Commerce Dataset.xlsx', sheet_name='E Comm')\n",
    "\n",
    "print(data)"
   ]
  },
  {
   "cell_type": "code",
   "execution_count": 75,
   "id": "5d351acf-42ff-418c-b676-c466e47825a7",
   "metadata": {},
   "outputs": [
    {
     "name": "stdout",
     "output_type": "stream",
     "text": [
      "PreferredLoginDevice ---> ['Mobile Phone' 'Phone' 'Computer']\n",
      "\n",
      "PreferredPaymentMode ---> ['Debit Card' 'UPI' 'CC' 'Cash on Delivery' 'E wallet' 'COD' 'Credit Card']\n",
      "\n",
      "Gender ---> ['Female' 'Male']\n",
      "\n",
      "PreferedOrderCat ---> ['Laptop & Accessory' 'Mobile' 'Mobile Phone' 'Others' 'Fashion' 'Grocery']\n",
      "\n",
      "MaritalStatus ---> ['Single' 'Divorced' 'Married']\n",
      "\n"
     ]
    }
   ],
   "source": [
    "cat_cols = data.dtypes[data.dtypes == 'object'].index\n",
    "\n",
    "for i in cat_cols:\n",
    "    print(f\"{i} ---> {data[i].unique()}\")\n",
    "    print()"
   ]
  },
  {
   "cell_type": "code",
   "execution_count": 76,
   "id": "0f76e1c4-b156-42ca-afba-de0676911001",
   "metadata": {},
   "outputs": [
    {
     "name": "stderr",
     "output_type": "stream",
     "text": [
      "C:\\Users\\sayuj\\AppData\\Local\\Temp\\ipykernel_7824\\4277807303.py:2: FutureWarning: A value is trying to be set on a copy of a DataFrame or Series through chained assignment using an inplace method.\n",
      "The behavior will change in pandas 3.0. This inplace method will never work because the intermediate object on which we are setting values always behaves as a copy.\n",
      "\n",
      "For example, when doing 'df[col].method(value, inplace=True)', try using 'df.method({col: value}, inplace=True)' or df[col] = df[col].method(value) instead, to perform the operation inplace on the original object.\n",
      "\n",
      "\n",
      "  data[\"PreferredLoginDevice\"].replace(\"Phone\", \"Mobile Phone\", inplace = True)\n",
      "C:\\Users\\sayuj\\AppData\\Local\\Temp\\ipykernel_7824\\4277807303.py:3: FutureWarning: A value is trying to be set on a copy of a DataFrame or Series through chained assignment using an inplace method.\n",
      "The behavior will change in pandas 3.0. This inplace method will never work because the intermediate object on which we are setting values always behaves as a copy.\n",
      "\n",
      "For example, when doing 'df[col].method(value, inplace=True)', try using 'df.method({col: value}, inplace=True)' or df[col] = df[col].method(value) instead, to perform the operation inplace on the original object.\n",
      "\n",
      "\n",
      "  data[\"PreferredPaymentMode\"].replace([\"CC\", \"COD\"], [\"Credit Card\", \"Cash On Delivery\"], inplace = True)\n",
      "C:\\Users\\sayuj\\AppData\\Local\\Temp\\ipykernel_7824\\4277807303.py:4: FutureWarning: A value is trying to be set on a copy of a DataFrame or Series through chained assignment using an inplace method.\n",
      "The behavior will change in pandas 3.0. This inplace method will never work because the intermediate object on which we are setting values always behaves as a copy.\n",
      "\n",
      "For example, when doing 'df[col].method(value, inplace=True)', try using 'df.method({col: value}, inplace=True)' or df[col] = df[col].method(value) instead, to perform the operation inplace on the original object.\n",
      "\n",
      "\n",
      "  data[\"PreferedOrderCat\"].replace(\"Mobile Phone\", \"Mobile\", inplace = True)\n"
     ]
    }
   ],
   "source": [
    "# Replacing duplicate values\n",
    "data[\"PreferredLoginDevice\"].replace(\"Phone\", \"Mobile Phone\", inplace = True)\n",
    "data[\"PreferredPaymentMode\"].replace([\"CC\", \"COD\"], [\"Credit Card\", \"Cash On Delivery\"], inplace = True)\n",
    "data[\"PreferedOrderCat\"].replace(\"Mobile Phone\", \"Mobile\", inplace = True)"
   ]
  },
  {
   "cell_type": "code",
   "execution_count": 77,
   "id": "b9ab3ffc-9c71-4935-816d-7138543114fb",
   "metadata": {},
   "outputs": [
    {
     "name": "stdout",
     "output_type": "stream",
     "text": [
      "PreferredLoginDevice ---> ['Mobile Phone' 'Computer']\n",
      "\n",
      "PreferredPaymentMode ---> ['Debit Card' 'UPI' 'Credit Card' 'Cash on Delivery' 'E wallet'\n",
      " 'Cash On Delivery']\n",
      "\n",
      "Gender ---> ['Female' 'Male']\n",
      "\n",
      "PreferedOrderCat ---> ['Laptop & Accessory' 'Mobile' 'Others' 'Fashion' 'Grocery']\n",
      "\n",
      "MaritalStatus ---> ['Single' 'Divorced' 'Married']\n",
      "\n"
     ]
    }
   ],
   "source": [
    "cat_cols = data.dtypes[data.dtypes == 'object'].index\n",
    "\n",
    "for i in cat_cols:\n",
    "    print(f\"{i} ---> {data[i].unique()}\")\n",
    "    print()"
   ]
  },
  {
   "cell_type": "code",
   "execution_count": 78,
   "id": "c4283d50-db12-4658-976d-70b2724384fd",
   "metadata": {},
   "outputs": [
    {
     "name": "stdout",
     "output_type": "stream",
     "text": [
      "<class 'pandas.core.frame.DataFrame'>\n",
      "RangeIndex: 5630 entries, 0 to 5629\n",
      "Data columns (total 20 columns):\n",
      " #   Column                       Non-Null Count  Dtype  \n",
      "---  ------                       --------------  -----  \n",
      " 0   CustomerID                   5630 non-null   int64  \n",
      " 1   Churn                        5630 non-null   int64  \n",
      " 2   Tenure                       5366 non-null   float64\n",
      " 3   PreferredLoginDevice         5630 non-null   object \n",
      " 4   CityTier                     5630 non-null   int64  \n",
      " 5   WarehouseToHome              5379 non-null   float64\n",
      " 6   PreferredPaymentMode         5630 non-null   object \n",
      " 7   Gender                       5630 non-null   object \n",
      " 8   HourSpendOnApp               5375 non-null   float64\n",
      " 9   NumberOfDeviceRegistered     5630 non-null   int64  \n",
      " 10  PreferedOrderCat             5630 non-null   object \n",
      " 11  SatisfactionScore            5630 non-null   int64  \n",
      " 12  MaritalStatus                5630 non-null   object \n",
      " 13  NumberOfAddress              5630 non-null   int64  \n",
      " 14  Complain                     5630 non-null   int64  \n",
      " 15  OrderAmountHikeFromlastYear  5365 non-null   float64\n",
      " 16  CouponUsed                   5374 non-null   float64\n",
      " 17  OrderCount                   5372 non-null   float64\n",
      " 18  DaySinceLastOrder            5323 non-null   float64\n",
      " 19  CashbackAmount               5630 non-null   float64\n",
      "dtypes: float64(8), int64(7), object(5)\n",
      "memory usage: 879.8+ KB\n"
     ]
    }
   ],
   "source": [
    "# Data type in the data set and column\n",
    "data.info()\n",
    "\n",
    "# Convert all the data type into integer\n",
    "from sklearn.preprocessing import LabelEncoder # Convert objects into numerical values\n",
    "\n",
    "label_encoder = LabelEncoder()\n",
    "for column in data.select_dtypes(include='object'):\n",
    "    data[column] = label_encoder.fit_transform(data[column])"
   ]
  },
  {
   "cell_type": "code",
   "execution_count": 79,
   "id": "db18ff71-24de-40ef-ad12-5458fac1ddd6",
   "metadata": {},
   "outputs": [
    {
     "name": "stdout",
     "output_type": "stream",
     "text": [
      "<class 'pandas.core.frame.DataFrame'>\n",
      "RangeIndex: 5630 entries, 0 to 5629\n",
      "Data columns (total 20 columns):\n",
      " #   Column                       Non-Null Count  Dtype  \n",
      "---  ------                       --------------  -----  \n",
      " 0   CustomerID                   5630 non-null   int64  \n",
      " 1   Churn                        5630 non-null   int64  \n",
      " 2   Tenure                       5366 non-null   float64\n",
      " 3   PreferredLoginDevice         5630 non-null   int32  \n",
      " 4   CityTier                     5630 non-null   int64  \n",
      " 5   WarehouseToHome              5379 non-null   float64\n",
      " 6   PreferredPaymentMode         5630 non-null   int32  \n",
      " 7   Gender                       5630 non-null   int32  \n",
      " 8   HourSpendOnApp               5375 non-null   float64\n",
      " 9   NumberOfDeviceRegistered     5630 non-null   int64  \n",
      " 10  PreferedOrderCat             5630 non-null   int32  \n",
      " 11  SatisfactionScore            5630 non-null   int64  \n",
      " 12  MaritalStatus                5630 non-null   int32  \n",
      " 13  NumberOfAddress              5630 non-null   int64  \n",
      " 14  Complain                     5630 non-null   int64  \n",
      " 15  OrderAmountHikeFromlastYear  5365 non-null   float64\n",
      " 16  CouponUsed                   5374 non-null   float64\n",
      " 17  OrderCount                   5372 non-null   float64\n",
      " 18  DaySinceLastOrder            5323 non-null   float64\n",
      " 19  CashbackAmount               5630 non-null   float64\n",
      "dtypes: float64(8), int32(5), int64(7)\n",
      "memory usage: 769.9 KB\n"
     ]
    }
   ],
   "source": [
    "# Checking the data types again\n",
    "data.info()"
   ]
  },
  {
   "cell_type": "code",
   "execution_count": 80,
   "id": "2a6eece0-8c52-4f46-8f36-740063bea22b",
   "metadata": {},
   "outputs": [
    {
     "data": {
      "text/plain": [
       "CustomerID                       0\n",
       "Churn                            0\n",
       "Tenure                         264\n",
       "PreferredLoginDevice             0\n",
       "CityTier                         0\n",
       "WarehouseToHome                251\n",
       "PreferredPaymentMode             0\n",
       "Gender                           0\n",
       "HourSpendOnApp                 255\n",
       "NumberOfDeviceRegistered         0\n",
       "PreferedOrderCat                 0\n",
       "SatisfactionScore                0\n",
       "MaritalStatus                    0\n",
       "NumberOfAddress                  0\n",
       "Complain                         0\n",
       "OrderAmountHikeFromlastYear    265\n",
       "CouponUsed                     256\n",
       "OrderCount                     258\n",
       "DaySinceLastOrder              307\n",
       "CashbackAmount                   0\n",
       "dtype: int64"
      ]
     },
     "execution_count": 80,
     "metadata": {},
     "output_type": "execute_result"
    }
   ],
   "source": [
    "# Missing Data\n",
    "data.isnull().sum()"
   ]
  },
  {
   "cell_type": "code",
   "execution_count": 81,
   "id": "cdc89890-e12b-47e8-96d9-7a9ec8e70226",
   "metadata": {},
   "outputs": [
    {
     "name": "stderr",
     "output_type": "stream",
     "text": [
      "C:\\Users\\sayuj\\AppData\\Local\\Temp\\ipykernel_7824\\41137506.py:9: FutureWarning: A value is trying to be set on a copy of a DataFrame or Series through chained assignment using an inplace method.\n",
      "The behavior will change in pandas 3.0. This inplace method will never work because the intermediate object on which we are setting values always behaves as a copy.\n",
      "\n",
      "For example, when doing 'df[col].method(value, inplace=True)', try using 'df.method({col: value}, inplace=True)' or df[col] = df[col].method(value) instead, to perform the operation inplace on the original object.\n",
      "\n",
      "\n",
      "  data[col].fillna(median_value, inplace = True)\n"
     ]
    },
    {
     "data": {
      "text/plain": [
       "CustomerID                     0\n",
       "Churn                          0\n",
       "Tenure                         0\n",
       "PreferredLoginDevice           0\n",
       "CityTier                       0\n",
       "WarehouseToHome                0\n",
       "PreferredPaymentMode           0\n",
       "Gender                         0\n",
       "HourSpendOnApp                 0\n",
       "NumberOfDeviceRegistered       0\n",
       "PreferedOrderCat               0\n",
       "SatisfactionScore              0\n",
       "MaritalStatus                  0\n",
       "NumberOfAddress                0\n",
       "Complain                       0\n",
       "OrderAmountHikeFromlastYear    0\n",
       "CouponUsed                     0\n",
       "OrderCount                     0\n",
       "DaySinceLastOrder              0\n",
       "CashbackAmount                 0\n",
       "dtype: int64"
      ]
     },
     "execution_count": 81,
     "metadata": {},
     "output_type": "execute_result"
    }
   ],
   "source": [
    "# We have to fill the missing value, using the value nearest to it i.e. Mean or Median\n",
    "\n",
    "# First find the column with missing value\n",
    "column_with_missing_value = [col for col in data.columns if data[col].isnull().sum() > 0]\n",
    "\n",
    "# Now fill the missing values with median\n",
    "for col in column_with_missing_value:\n",
    "    median_value = data[col].median()\n",
    "    data[col].fillna(median_value, inplace = True)\n",
    "\n",
    "data.isnull().sum()\n",
    "\n",
    "# data.dropna(how = 'any', inplace = True)"
   ]
  },
  {
   "cell_type": "code",
   "execution_count": 82,
   "id": "7327018a-b994-4521-923e-4f6924c6b761",
   "metadata": {},
   "outputs": [
    {
     "data": {
      "text/plain": [
       "Churn\n",
       "0    4682\n",
       "1     948\n",
       "Name: count, dtype: int64"
      ]
     },
     "execution_count": 82,
     "metadata": {},
     "output_type": "execute_result"
    }
   ],
   "source": [
    "# Number of Churners vs Non-Churners\n",
    "data['Churn'].value_counts()"
   ]
  },
  {
   "cell_type": "code",
   "execution_count": 83,
   "id": "2b195d96-6c80-4ccf-8cc3-c47cc8a2f21e",
   "metadata": {},
   "outputs": [],
   "source": [
    "# Since churn data is less so we need to oversample or properly balance the data\n",
    "from sklearn.utils import resample\n",
    "\n",
    "no_churn_data = data.loc[data['Churn'] == 0]\n",
    "churn_data = data.loc[data['Churn'] == 1]\n",
    "\n",
    "# calculate the total number of each data\n",
    "no_churn_count = len(no_churn_data)\n",
    "churn_count = len(churn_data)\n",
    "\n",
    "# Now we apply the oversampling data\n",
    "data_rearrange = resample(churn_data, replace = True, n_samples = no_churn_count, random_state = 42)"
   ]
  },
  {
   "cell_type": "code",
   "execution_count": 84,
   "id": "dfa7435e-f1f4-4d8e-a146-29c134f181d0",
   "metadata": {},
   "outputs": [],
   "source": [
    "# We combine the oversampled minority (i.e. churn) with majority class (i.e. no churn)\n",
    "new_data = pd.concat([data_rearrange, no_churn_data])\n",
    "\n",
    "# We shuffle the rows to ensure combined dataset are properly randomized\n",
    "new_data = new_data.sample(frac =  1) # frac = 1 means all the rows will be shuffled\n",
    "\n",
    "# Now reset the index of the new dataset\n",
    "new_data.reset_index(drop = True, inplace = True)"
   ]
  },
  {
   "cell_type": "code",
   "execution_count": 85,
   "id": "fb87e964-77ce-4535-b3b9-b365736110a5",
   "metadata": {},
   "outputs": [
    {
     "data": {
      "text/plain": [
       "Churn\n",
       "1    4682\n",
       "0    4682\n",
       "Name: count, dtype: int64"
      ]
     },
     "execution_count": 85,
     "metadata": {},
     "output_type": "execute_result"
    }
   ],
   "source": [
    "# Checking the new Churn Value\n",
    "new_data['Churn'].value_counts()"
   ]
  },
  {
   "cell_type": "code",
   "execution_count": 86,
   "id": "d5507239-5f26-4e94-8143-fdc9880a14c8",
   "metadata": {},
   "outputs": [],
   "source": [
    "# Splitting into Train and Test Dataset (70% - 30%)\n",
    "x = new_data.drop(['Churn'], axis = 1)\n",
    "y = new_data['Churn']\n",
    "\n",
    "from  sklearn.model_selection import train_test_split\n",
    "x_train, x_test, y_train, y_test = train_test_split(x, y, test_size=0.3, random_state=52)\n",
    "\n",
    "# Now we  will make normalization for all data to make them in common range\n",
    "from sklearn.preprocessing import MinMaxScaler\n",
    "\n",
    "MN = MinMaxScaler()\n",
    "x_train_scaled = MN.fit_transform(x_train)\n",
    "x_test_scaled = MN.fit_transform(x_test)"
   ]
  },
  {
   "cell_type": "code",
   "execution_count": 87,
   "id": "f973525e-2760-4b8c-812b-492e697c0ab9",
   "metadata": {},
   "outputs": [
    {
     "name": "stdout",
     "output_type": "stream",
     "text": [
      "Accuracy = 0.7889679715302491\n",
      "\n",
      "Classification Report of Random Forest:\n",
      "              precision    recall  f1-score   support\n",
      "\n",
      "           0     0.7072    0.9958    0.8271      1424\n",
      "           1     0.9925    0.5765    0.7293      1386\n",
      "\n",
      "    accuracy                         0.7890      2810\n",
      "   macro avg     0.8499    0.7861    0.7782      2810\n",
      "weighted avg     0.8480    0.7890    0.7789      2810\n",
      "\n"
     ]
    },
    {
     "data": {
      "text/plain": [
       "(<Figure size 640x480 with 1 Axes>,\n",
       " <Axes: xlabel='predicted label', ylabel='true label'>)"
      ]
     },
     "execution_count": 87,
     "metadata": {},
     "output_type": "execute_result"
    },
    {
     "data": {
      "image/png": "[encoded data removed]",
      "text/plain": [
       "<Figure size 640x480 with 1 Axes>"
      ]
     },
     "metadata": {},
     "output_type": "display_data"
    }
   ],
   "source": [
    "# Usually need to install using 'pip install mlxtend' in cmd\n",
    "from mlxtend.plotting import plot_confusion_matrix\n",
    "from sklearn.metrics import accuracy_score, classification_report, confusion_matrix\n",
    "from sklearn.ensemble import RandomForestClassifier\n",
    "\n",
    "rf_model = RandomForestClassifier()\n",
    "\n",
    "# Trains the model on the normalized training data\n",
    "rf_model.fit(x_train_scaled, y_train) \n",
    "\n",
    "# After training, we use it to predict the churn\n",
    "y_pred_rf = rf_model.predict(x_test_scaled) \n",
    "\n",
    "# After prediction for accuracy testing\n",
    "# Test the accuracy of predicted to the test or known data\n",
    "accuracy = accuracy_score(y_test, y_pred_rf) \n",
    "\n",
    "print(f\"Accuracy = {format(accuracy)}\") \n",
    "\n",
    "print(f\"\\nClassification Report of Random Forest:\\n{classification_report(y_test, y_pred_rf, digits=4)}\") \n",
    "plot_confusion_matrix(confusion_matrix(y_test , y_pred_rf)) # Computes the confusion matrix"
   ]
  },
  {
   "cell_type": "code",
   "execution_count": 88,
   "id": "8dba9093-d994-4a1e-8793-0bec926bfb5e",
   "metadata": {},
   "outputs": [
    {
     "name": "stdout",
     "output_type": "stream",
     "text": [
      "(6554, 19)\n"
     ]
    }
   ],
   "source": [
    "import tensorflow as tf\n",
    "from tensorflow import keras\n",
    "from keras.models import Sequential\n",
    "from keras.layers import Input, Dense\n",
    "\n",
    "print(x_train.shape)"
   ]
  },
  {
   "cell_type": "code",
   "execution_count": 89,
   "id": "d8a13e0e-139e-4072-8119-d8d7492da084",
   "metadata": {},
   "outputs": [
    {
     "name": "stdout",
     "output_type": "stream",
     "text": [
      "Epoch 1/100\n",
      "\u001b[1m205/205\u001b[0m \u001b[32m━━━━━━━━━━━━━━━━━━━━\u001b[0m\u001b[37m\u001b[0m \u001b[1m1s\u001b[0m 1ms/step - accuracy: 0.6497 - loss: 0.6372\n",
      "Epoch 2/100\n",
      "\u001b[1m205/205\u001b[0m \u001b[32m━━━━━━━━━━━━━━━━━━━━\u001b[0m\u001b[37m\u001b[0m \u001b[1m0s\u001b[0m 1ms/step - accuracy: 0.7508 - loss: 0.5236  \n",
      "Epoch 3/100\n",
      "\u001b[1m205/205\u001b[0m \u001b[32m━━━━━━━━━━━━━━━━━━━━\u001b[0m\u001b[37m\u001b[0m \u001b[1m0s\u001b[0m 1ms/step - accuracy: 0.7873 - loss: 0.4685\n",
      "Epoch 4/100\n",
      "\u001b[1m205/205\u001b[0m \u001b[32m━━━━━━━━━━━━━━━━━━━━\u001b[0m\u001b[37m\u001b[0m \u001b[1m0s\u001b[0m 1ms/step - accuracy: 0.8025 - loss: 0.4481\n",
      "Epoch 5/100\n",
      "\u001b[1m205/205\u001b[0m \u001b[32m━━━━━━━━━━━━━━━━━━━━\u001b[0m\u001b[37m\u001b[0m \u001b[1m0s\u001b[0m 1ms/step - accuracy: 0.8020 - loss: 0.4419  \n",
      "Epoch 6/100\n",
      "\u001b[1m205/205\u001b[0m \u001b[32m━━━━━━━━━━━━━━━━━━━━\u001b[0m\u001b[37m\u001b[0m \u001b[1m0s\u001b[0m 1ms/step - accuracy: 0.7962 - loss: 0.4327  \n",
      "Epoch 7/100\n",
      "\u001b[1m205/205\u001b[0m \u001b[32m━━━━━━━━━━━━━━━━━━━━\u001b[0m\u001b[37m\u001b[0m \u001b[1m0s\u001b[0m 1ms/step - accuracy: 0.8104 - loss: 0.4172  \n",
      "Epoch 8/100\n",
      "\u001b[1m205/205\u001b[0m \u001b[32m━━━━━━━━━━━━━━━━━━━━\u001b[0m\u001b[37m\u001b[0m \u001b[1m0s\u001b[0m 1ms/step - accuracy: 0.8224 - loss: 0.3947  \n",
      "Epoch 9/100\n",
      "\u001b[1m205/205\u001b[0m \u001b[32m━━━━━━━━━━━━━━━━━━━━\u001b[0m\u001b[37m\u001b[0m \u001b[1m0s\u001b[0m 1ms/step - accuracy: 0.8236 - loss: 0.3851\n",
      "Epoch 10/100\n",
      "\u001b[1m205/205\u001b[0m \u001b[32m━━━━━━━━━━━━━━━━━━━━\u001b[0m\u001b[37m\u001b[0m \u001b[1m0s\u001b[0m 1ms/step - accuracy: 0.8331 - loss: 0.3712\n",
      "Epoch 11/100\n",
      "\u001b[1m205/205\u001b[0m \u001b[32m━━━━━━━━━━━━━━━━━━━━\u001b[0m\u001b[37m\u001b[0m \u001b[1m0s\u001b[0m 1ms/step - accuracy: 0.8376 - loss: 0.3613\n",
      "Epoch 12/100\n",
      "\u001b[1m205/205\u001b[0m \u001b[32m━━━━━━━━━━━━━━━━━━━━\u001b[0m\u001b[37m\u001b[0m \u001b[1m0s\u001b[0m 1ms/step - accuracy: 0.8348 - loss: 0.3585\n",
      "Epoch 13/100\n",
      "\u001b[1m205/205\u001b[0m \u001b[32m━━━━━━━━━━━━━━━━━━━━\u001b[0m\u001b[37m\u001b[0m \u001b[1m0s\u001b[0m 1ms/step - accuracy: 0.8421 - loss: 0.3484\n",
      "Epoch 14/100\n",
      "\u001b[1m205/205\u001b[0m \u001b[32m━━━━━━━━━━━━━━━━━━━━\u001b[0m\u001b[37m\u001b[0m \u001b[1m0s\u001b[0m 1ms/step - accuracy: 0.8539 - loss: 0.3217  \n",
      "Epoch 15/100\n",
      "\u001b[1m205/205\u001b[0m \u001b[32m━━━━━━━━━━━━━━━━━━━━\u001b[0m\u001b[37m\u001b[0m \u001b[1m0s\u001b[0m 1ms/step - accuracy: 0.8496 - loss: 0.3290  \n",
      "Epoch 16/100\n",
      "\u001b[1m205/205\u001b[0m \u001b[32m━━━━━━━━━━━━━━━━━━━━\u001b[0m\u001b[37m\u001b[0m \u001b[1m0s\u001b[0m 1ms/step - accuracy: 0.8618 - loss: 0.3082  \n",
      "Epoch 17/100\n",
      "\u001b[1m205/205\u001b[0m \u001b[32m━━━━━━━━━━━━━━━━━━━━\u001b[0m\u001b[37m\u001b[0m \u001b[1m0s\u001b[0m 1ms/step - accuracy: 0.8678 - loss: 0.3057  \n",
      "Epoch 18/100\n",
      "\u001b[1m205/205\u001b[0m \u001b[32m━━━━━━━━━━━━━━━━━━━━\u001b[0m\u001b[37m\u001b[0m \u001b[1m0s\u001b[0m 1ms/step - accuracy: 0.8681 - loss: 0.3047  \n",
      "Epoch 19/100\n",
      "\u001b[1m205/205\u001b[0m \u001b[32m━━━━━━━━━━━━━━━━━━━━\u001b[0m\u001b[37m\u001b[0m \u001b[1m0s\u001b[0m 989us/step - accuracy: 0.8761 - loss: 0.2915\n",
      "Epoch 20/100\n",
      "\u001b[1m205/205\u001b[0m \u001b[32m━━━━━━━━━━━━━━━━━━━━\u001b[0m\u001b[37m\u001b[0m \u001b[1m0s\u001b[0m 1ms/step - accuracy: 0.8769 - loss: 0.2832\n",
      "Epoch 21/100\n",
      "\u001b[1m205/205\u001b[0m \u001b[32m━━━━━━━━━━━━━━━━━━━━\u001b[0m\u001b[37m\u001b[0m \u001b[1m0s\u001b[0m 1ms/step - accuracy: 0.8765 - loss: 0.2811  \n",
      "Epoch 22/100\n",
      "\u001b[1m205/205\u001b[0m \u001b[32m━━━━━━━━━━━━━━━━━━━━\u001b[0m\u001b[37m\u001b[0m \u001b[1m0s\u001b[0m 1ms/step - accuracy: 0.8714 - loss: 0.2854  \n",
      "Epoch 23/100\n",
      "\u001b[1m205/205\u001b[0m \u001b[32m━━━━━━━━━━━━━━━━━━━━\u001b[0m\u001b[37m\u001b[0m \u001b[1m0s\u001b[0m 999us/step - accuracy: 0.8813 - loss: 0.2651\n",
      "Epoch 24/100\n",
      "\u001b[1m205/205\u001b[0m \u001b[32m━━━━━━━━━━━━━━━━━━━━\u001b[0m\u001b[37m\u001b[0m \u001b[1m0s\u001b[0m 1ms/step - accuracy: 0.8845 - loss: 0.2627  \n",
      "Epoch 25/100\n",
      "\u001b[1m205/205\u001b[0m \u001b[32m━━━━━━━━━━━━━━━━━━━━\u001b[0m\u001b[37m\u001b[0m \u001b[1m0s\u001b[0m 1ms/step - accuracy: 0.8882 - loss: 0.2622  \n",
      "Epoch 26/100\n",
      "\u001b[1m205/205\u001b[0m \u001b[32m━━━━━━━━━━━━━━━━━━━━\u001b[0m\u001b[37m\u001b[0m \u001b[1m0s\u001b[0m 1ms/step - accuracy: 0.8844 - loss: 0.2658  \n",
      "Epoch 27/100\n",
      "\u001b[1m205/205\u001b[0m \u001b[32m━━━━━━━━━━━━━━━━━━━━\u001b[0m\u001b[37m\u001b[0m \u001b[1m0s\u001b[0m 1ms/step - accuracy: 0.8901 - loss: 0.2565  \n",
      "Epoch 28/100\n",
      "\u001b[1m205/205\u001b[0m \u001b[32m━━━━━━━━━━━━━━━━━━━━\u001b[0m\u001b[37m\u001b[0m \u001b[1m0s\u001b[0m 1ms/step - accuracy: 0.8843 - loss: 0.2619  \n",
      "Epoch 29/100\n",
      "\u001b[1m205/205\u001b[0m \u001b[32m━━━━━━━━━━━━━━━━━━━━\u001b[0m\u001b[37m\u001b[0m \u001b[1m0s\u001b[0m 1ms/step - accuracy: 0.8939 - loss: 0.2422  \n",
      "Epoch 30/100\n",
      "\u001b[1m205/205\u001b[0m \u001b[32m━━━━━━━━━━━━━━━━━━━━\u001b[0m\u001b[37m\u001b[0m \u001b[1m0s\u001b[0m 1ms/step - accuracy: 0.8890 - loss: 0.2533  \n",
      "Epoch 31/100\n",
      "\u001b[1m205/205\u001b[0m \u001b[32m━━━━━━━━━━━━━━━━━━━━\u001b[0m\u001b[37m\u001b[0m \u001b[1m0s\u001b[0m 1ms/step - accuracy: 0.8971 - loss: 0.2395\n",
      "Epoch 32/100\n",
      "\u001b[1m205/205\u001b[0m \u001b[32m━━━━━━━━━━━━━━━━━━━━\u001b[0m\u001b[37m\u001b[0m \u001b[1m0s\u001b[0m 1ms/step - accuracy: 0.8922 - loss: 0.2511  \n",
      "Epoch 33/100\n",
      "\u001b[1m205/205\u001b[0m \u001b[32m━━━━━━━━━━━━━━━━━━━━\u001b[0m\u001b[37m\u001b[0m \u001b[1m0s\u001b[0m 1ms/step - accuracy: 0.9004 - loss: 0.2387\n",
      "Epoch 34/100\n",
      "\u001b[1m205/205\u001b[0m \u001b[32m━━━━━━━━━━━━━━━━━━━━\u001b[0m\u001b[37m\u001b[0m \u001b[1m0s\u001b[0m 1ms/step - accuracy: 0.9031 - loss: 0.2322\n",
      "Epoch 35/100\n",
      "\u001b[1m205/205\u001b[0m \u001b[32m━━━━━━━━━━━━━━━━━━━━\u001b[0m\u001b[37m\u001b[0m \u001b[1m0s\u001b[0m 1ms/step - accuracy: 0.9094 - loss: 0.2232  \n",
      "Epoch 36/100\n",
      "\u001b[1m205/205\u001b[0m \u001b[32m━━━━━━━━━━━━━━━━━━━━\u001b[0m\u001b[37m\u001b[0m \u001b[1m0s\u001b[0m 1ms/step - accuracy: 0.9047 - loss: 0.2355\n",
      "Epoch 37/100\n",
      "\u001b[1m205/205\u001b[0m \u001b[32m━━━━━━━━━━━━━━━━━━━━\u001b[0m\u001b[37m\u001b[0m \u001b[1m0s\u001b[0m 1ms/step - accuracy: 0.9036 - loss: 0.2334\n",
      "Epoch 38/100\n",
      "\u001b[1m205/205\u001b[0m \u001b[32m━━━━━━━━━━━━━━━━━━━━\u001b[0m\u001b[37m\u001b[0m \u001b[1m0s\u001b[0m 1ms/step - accuracy: 0.9046 - loss: 0.2207\n",
      "Epoch 39/100\n",
      "\u001b[1m205/205\u001b[0m \u001b[32m━━━━━━━━━━━━━━━━━━━━\u001b[0m\u001b[37m\u001b[0m \u001b[1m0s\u001b[0m 1ms/step - accuracy: 0.9074 - loss: 0.2234\n",
      "Epoch 40/100\n",
      "\u001b[1m205/205\u001b[0m \u001b[32m━━━━━━━━━━━━━━━━━━━━\u001b[0m\u001b[37m\u001b[0m \u001b[1m0s\u001b[0m 1ms/step - accuracy: 0.9041 - loss: 0.2201\n",
      "Epoch 41/100\n",
      "\u001b[1m205/205\u001b[0m \u001b[32m━━━━━━━━━━━━━━━━━━━━\u001b[0m\u001b[37m\u001b[0m \u001b[1m0s\u001b[0m 1ms/step - accuracy: 0.9092 - loss: 0.2208  \n",
      "Epoch 42/100\n",
      "\u001b[1m205/205\u001b[0m \u001b[32m━━━━━━━━━━━━━━━━━━━━\u001b[0m\u001b[37m\u001b[0m \u001b[1m0s\u001b[0m 1ms/step - accuracy: 0.9140 - loss: 0.2156  \n",
      "Epoch 43/100\n",
      "\u001b[1m205/205\u001b[0m \u001b[32m━━━━━━━━━━━━━━━━━━━━\u001b[0m\u001b[37m\u001b[0m \u001b[1m0s\u001b[0m 977us/step - accuracy: 0.9160 - loss: 0.2125\n",
      "Epoch 44/100\n",
      "\u001b[1m205/205\u001b[0m \u001b[32m━━━━━━━━━━━━━━━━━━━━\u001b[0m\u001b[37m\u001b[0m \u001b[1m0s\u001b[0m 965us/step - accuracy: 0.9171 - loss: 0.2081\n",
      "Epoch 45/100\n",
      "\u001b[1m205/205\u001b[0m \u001b[32m━━━━━━━━━━━━━━━━━━━━\u001b[0m\u001b[37m\u001b[0m \u001b[1m0s\u001b[0m 1ms/step - accuracy: 0.9182 - loss: 0.2022  \n",
      "Epoch 46/100\n",
      "\u001b[1m205/205\u001b[0m \u001b[32m━━━━━━━━━━━━━━━━━━━━\u001b[0m\u001b[37m\u001b[0m \u001b[1m0s\u001b[0m 1ms/step - accuracy: 0.9177 - loss: 0.2063  \n",
      "Epoch 47/100\n",
      "\u001b[1m205/205\u001b[0m \u001b[32m━━━━━━━━━━━━━━━━━━━━\u001b[0m\u001b[37m\u001b[0m \u001b[1m0s\u001b[0m 1ms/step - accuracy: 0.9228 - loss: 0.2061\n",
      "Epoch 48/100\n",
      "\u001b[1m205/205\u001b[0m \u001b[32m━━━━━━━━━━━━━━━━━━━━\u001b[0m\u001b[37m\u001b[0m \u001b[1m0s\u001b[0m 981us/step - accuracy: 0.9155 - loss: 0.2053\n",
      "Epoch 49/100\n",
      "\u001b[1m205/205\u001b[0m \u001b[32m━━━━━━━━━━━━━━━━━━━━\u001b[0m\u001b[37m\u001b[0m \u001b[1m0s\u001b[0m 997us/step - accuracy: 0.9186 - loss: 0.2053\n",
      "Epoch 50/100\n",
      "\u001b[1m205/205\u001b[0m \u001b[32m━━━━━━━━━━━━━━━━━━━━\u001b[0m\u001b[37m\u001b[0m \u001b[1m0s\u001b[0m 1ms/step - accuracy: 0.9265 - loss: 0.1917\n",
      "Epoch 51/100\n",
      "\u001b[1m205/205\u001b[0m \u001b[32m━━━━━━━━━━━━━━━━━━━━\u001b[0m\u001b[37m\u001b[0m \u001b[1m0s\u001b[0m 1ms/step - accuracy: 0.9237 - loss: 0.1896  \n",
      "Epoch 52/100\n",
      "\u001b[1m205/205\u001b[0m \u001b[32m━━━━━━━━━━━━━━━━━━━━\u001b[0m\u001b[37m\u001b[0m \u001b[1m0s\u001b[0m 1ms/step - accuracy: 0.9281 - loss: 0.1920  \n",
      "Epoch 53/100\n",
      "\u001b[1m205/205\u001b[0m \u001b[32m━━━━━━━━━━━━━━━━━━━━\u001b[0m\u001b[37m\u001b[0m \u001b[1m0s\u001b[0m 1ms/step - accuracy: 0.9161 - loss: 0.1969\n",
      "Epoch 54/100\n",
      "\u001b[1m205/205\u001b[0m \u001b[32m━━━━━━━━━━━━━━━━━━━━\u001b[0m\u001b[37m\u001b[0m \u001b[1m0s\u001b[0m 1ms/step - accuracy: 0.9326 - loss: 0.1775  \n",
      "Epoch 55/100\n",
      "\u001b[1m205/205\u001b[0m \u001b[32m━━━━━━━━━━━━━━━━━━━━\u001b[0m\u001b[37m\u001b[0m \u001b[1m0s\u001b[0m 1ms/step - accuracy: 0.9280 - loss: 0.1781  \n",
      "Epoch 56/100\n",
      "\u001b[1m205/205\u001b[0m \u001b[32m━━━━━━━━━━━━━━━━━━━━\u001b[0m\u001b[37m\u001b[0m \u001b[1m0s\u001b[0m 1ms/step - accuracy: 0.9297 - loss: 0.1883  \n",
      "Epoch 57/100\n",
      "\u001b[1m205/205\u001b[0m \u001b[32m━━━━━━━━━━━━━━━━━━━━\u001b[0m\u001b[37m\u001b[0m \u001b[1m0s\u001b[0m 1ms/step - accuracy: 0.9341 - loss: 0.1785  \n",
      "Epoch 58/100\n",
      "\u001b[1m205/205\u001b[0m \u001b[32m━━━━━━━━━━━━━━━━━━━━\u001b[0m\u001b[37m\u001b[0m \u001b[1m0s\u001b[0m 998us/step - accuracy: 0.9341 - loss: 0.1818\n",
      "Epoch 59/100\n",
      "\u001b[1m205/205\u001b[0m \u001b[32m━━━━━━━━━━━━━━━━━━━━\u001b[0m\u001b[37m\u001b[0m \u001b[1m0s\u001b[0m 1ms/step - accuracy: 0.9291 - loss: 0.1885\n",
      "Epoch 60/100\n",
      "\u001b[1m205/205\u001b[0m \u001b[32m━━━━━━━━━━━━━━━━━━━━\u001b[0m\u001b[37m\u001b[0m \u001b[1m0s\u001b[0m 1ms/step - accuracy: 0.9280 - loss: 0.1748  \n",
      "Epoch 61/100\n",
      "\u001b[1m205/205\u001b[0m \u001b[32m━━━━━━━━━━━━━━━━━━━━\u001b[0m\u001b[37m\u001b[0m \u001b[1m0s\u001b[0m 1ms/step - accuracy: 0.9290 - loss: 0.1766  \n",
      "Epoch 62/100\n",
      "\u001b[1m205/205\u001b[0m \u001b[32m━━━━━━━━━━━━━━━━━━━━\u001b[0m\u001b[37m\u001b[0m \u001b[1m0s\u001b[0m 991us/step - accuracy: 0.9349 - loss: 0.1792\n",
      "Epoch 63/100\n",
      "\u001b[1m205/205\u001b[0m \u001b[32m━━━━━━━━━━━━━━━━━━━━\u001b[0m\u001b[37m\u001b[0m \u001b[1m0s\u001b[0m 1ms/step - accuracy: 0.9351 - loss: 0.1700  \n",
      "Epoch 64/100\n",
      "\u001b[1m205/205\u001b[0m \u001b[32m━━━━━━━━━━━━━━━━━━━━\u001b[0m\u001b[37m\u001b[0m \u001b[1m0s\u001b[0m 997us/step - accuracy: 0.9376 - loss: 0.1695\n",
      "Epoch 65/100\n",
      "\u001b[1m205/205\u001b[0m \u001b[32m━━━━━━━━━━━━━━━━━━━━\u001b[0m\u001b[37m\u001b[0m \u001b[1m0s\u001b[0m 1ms/step - accuracy: 0.9371 - loss: 0.1712  \n",
      "Epoch 66/100\n",
      "\u001b[1m205/205\u001b[0m \u001b[32m━━━━━━━━━━━━━━━━━━━━\u001b[0m\u001b[37m\u001b[0m \u001b[1m0s\u001b[0m 1ms/step - accuracy: 0.9403 - loss: 0.1692  \n",
      "Epoch 67/100\n",
      "\u001b[1m205/205\u001b[0m \u001b[32m━━━━━━━━━━━━━━━━━━━━\u001b[0m\u001b[37m\u001b[0m \u001b[1m0s\u001b[0m 1ms/step - accuracy: 0.9377 - loss: 0.1658\n",
      "Epoch 68/100\n",
      "\u001b[1m205/205\u001b[0m \u001b[32m━━━━━━━━━━━━━━━━━━━━\u001b[0m\u001b[37m\u001b[0m \u001b[1m0s\u001b[0m 971us/step - accuracy: 0.9442 - loss: 0.1606\n",
      "Epoch 69/100\n",
      "\u001b[1m205/205\u001b[0m \u001b[32m━━━━━━━━━━━━━━━━━━━━\u001b[0m\u001b[37m\u001b[0m \u001b[1m0s\u001b[0m 955us/step - accuracy: 0.9491 - loss: 0.1538\n",
      "Epoch 70/100\n",
      "\u001b[1m205/205\u001b[0m \u001b[32m━━━━━━━━━━━━━━━━━━━━\u001b[0m\u001b[37m\u001b[0m \u001b[1m0s\u001b[0m 980us/step - accuracy: 0.9430 - loss: 0.1594\n",
      "Epoch 71/100\n",
      "\u001b[1m205/205\u001b[0m \u001b[32m━━━━━━━━━━━━━━━━━━━━\u001b[0m\u001b[37m\u001b[0m \u001b[1m0s\u001b[0m 973us/step - accuracy: 0.9429 - loss: 0.1589\n",
      "Epoch 72/100\n",
      "\u001b[1m205/205\u001b[0m \u001b[32m━━━━━━━━━━━━━━━━━━━━\u001b[0m\u001b[37m\u001b[0m \u001b[1m0s\u001b[0m 1ms/step - accuracy: 0.9374 - loss: 0.1667  \n",
      "Epoch 73/100\n",
      "\u001b[1m205/205\u001b[0m \u001b[32m━━━━━━━━━━━━━━━━━━━━\u001b[0m\u001b[37m\u001b[0m \u001b[1m0s\u001b[0m 991us/step - accuracy: 0.9490 - loss: 0.1492\n",
      "Epoch 74/100\n",
      "\u001b[1m205/205\u001b[0m \u001b[32m━━━━━━━━━━━━━━━━━━━━\u001b[0m\u001b[37m\u001b[0m \u001b[1m0s\u001b[0m 997us/step - accuracy: 0.9479 - loss: 0.1532\n",
      "Epoch 75/100\n",
      "\u001b[1m205/205\u001b[0m \u001b[32m━━━━━━━━━━━━━━━━━━━━\u001b[0m\u001b[37m\u001b[0m \u001b[1m0s\u001b[0m 1ms/step - accuracy: 0.9463 - loss: 0.1518  \n",
      "Epoch 76/100\n",
      "\u001b[1m205/205\u001b[0m \u001b[32m━━━━━━━━━━━━━━━━━━━━\u001b[0m\u001b[37m\u001b[0m \u001b[1m0s\u001b[0m 1ms/step - accuracy: 0.9524 - loss: 0.1470  \n",
      "Epoch 77/100\n",
      "\u001b[1m205/205\u001b[0m \u001b[32m━━━━━━━━━━━━━━━━━━━━\u001b[0m\u001b[37m\u001b[0m \u001b[1m0s\u001b[0m 1000us/step - accuracy: 0.9539 - loss: 0.1355\n",
      "Epoch 78/100\n",
      "\u001b[1m205/205\u001b[0m \u001b[32m━━━━━━━━━━━━━━━━━━━━\u001b[0m\u001b[37m\u001b[0m \u001b[1m0s\u001b[0m 1ms/step - accuracy: 0.9483 - loss: 0.1453  \n",
      "Epoch 79/100\n",
      "\u001b[1m205/205\u001b[0m \u001b[32m━━━━━━━━━━━━━━━━━━━━\u001b[0m\u001b[37m\u001b[0m \u001b[1m0s\u001b[0m 958us/step - accuracy: 0.9508 - loss: 0.1402\n",
      "Epoch 80/100\n",
      "\u001b[1m205/205\u001b[0m \u001b[32m━━━━━━━━━━━━━━━━━━━━\u001b[0m\u001b[37m\u001b[0m \u001b[1m0s\u001b[0m 1ms/step - accuracy: 0.9513 - loss: 0.1429  \n",
      "Epoch 81/100\n",
      "\u001b[1m205/205\u001b[0m \u001b[32m━━━━━━━━━━━━━━━━━━━━\u001b[0m\u001b[37m\u001b[0m \u001b[1m0s\u001b[0m 965us/step - accuracy: 0.9524 - loss: 0.1320\n",
      "Epoch 82/100\n",
      "\u001b[1m205/205\u001b[0m \u001b[32m━━━━━━━━━━━━━━━━━━━━\u001b[0m\u001b[37m\u001b[0m \u001b[1m0s\u001b[0m 987us/step - accuracy: 0.9476 - loss: 0.1419\n",
      "Epoch 83/100\n",
      "\u001b[1m205/205\u001b[0m \u001b[32m━━━━━━━━━━━━━━━━━━━━\u001b[0m\u001b[37m\u001b[0m \u001b[1m0s\u001b[0m 970us/step - accuracy: 0.9548 - loss: 0.1308\n",
      "Epoch 84/100\n",
      "\u001b[1m205/205\u001b[0m \u001b[32m━━━━━━━━━━━━━━━━━━━━\u001b[0m\u001b[37m\u001b[0m \u001b[1m0s\u001b[0m 945us/step - accuracy: 0.9512 - loss: 0.1417\n",
      "Epoch 85/100\n",
      "\u001b[1m205/205\u001b[0m \u001b[32m━━━━━━━━━━━━━━━━━━━━\u001b[0m\u001b[37m\u001b[0m \u001b[1m0s\u001b[0m 1ms/step - accuracy: 0.9497 - loss: 0.1399\n",
      "Epoch 86/100\n",
      "\u001b[1m205/205\u001b[0m \u001b[32m━━━━━━━━━━━━━━━━━━━━\u001b[0m\u001b[37m\u001b[0m \u001b[1m0s\u001b[0m 969us/step - accuracy: 0.9614 - loss: 0.1279\n",
      "Epoch 87/100\n",
      "\u001b[1m205/205\u001b[0m \u001b[32m━━━━━━━━━━━━━━━━━━━━\u001b[0m\u001b[37m\u001b[0m \u001b[1m0s\u001b[0m 994us/step - accuracy: 0.9500 - loss: 0.1400\n",
      "Epoch 88/100\n",
      "\u001b[1m205/205\u001b[0m \u001b[32m━━━━━━━━━━━━━━━━━━━━\u001b[0m\u001b[37m\u001b[0m \u001b[1m0s\u001b[0m 965us/step - accuracy: 0.9573 - loss: 0.1339\n",
      "Epoch 89/100\n",
      "\u001b[1m205/205\u001b[0m \u001b[32m━━━━━━━━━━━━━━━━━━━━\u001b[0m\u001b[37m\u001b[0m \u001b[1m0s\u001b[0m 955us/step - accuracy: 0.9593 - loss: 0.1259\n",
      "Epoch 90/100\n",
      "\u001b[1m205/205\u001b[0m \u001b[32m━━━━━━━━━━━━━━━━━━━━\u001b[0m\u001b[37m\u001b[0m \u001b[1m0s\u001b[0m 988us/step - accuracy: 0.9593 - loss: 0.1232\n",
      "Epoch 91/100\n",
      "\u001b[1m205/205\u001b[0m \u001b[32m━━━━━━━━━━━━━━━━━━━━\u001b[0m\u001b[37m\u001b[0m \u001b[1m0s\u001b[0m 1000us/step - accuracy: 0.9607 - loss: 0.1233\n",
      "Epoch 92/100\n",
      "\u001b[1m205/205\u001b[0m \u001b[32m━━━━━━━━━━━━━━━━━━━━\u001b[0m\u001b[37m\u001b[0m \u001b[1m0s\u001b[0m 1ms/step - accuracy: 0.9580 - loss: 0.1314  \n",
      "Epoch 93/100\n",
      "\u001b[1m205/205\u001b[0m \u001b[32m━━━━━━━━━━━━━━━━━━━━\u001b[0m\u001b[37m\u001b[0m \u001b[1m0s\u001b[0m 1ms/step - accuracy: 0.9593 - loss: 0.1172  \n",
      "Epoch 94/100\n",
      "\u001b[1m205/205\u001b[0m \u001b[32m━━━━━━━━━━━━━━━━━━━━\u001b[0m\u001b[37m\u001b[0m \u001b[1m0s\u001b[0m 1ms/step - accuracy: 0.9560 - loss: 0.1291\n",
      "Epoch 95/100\n",
      "\u001b[1m205/205\u001b[0m \u001b[32m━━━━━━━━━━━━━━━━━━━━\u001b[0m\u001b[37m\u001b[0m \u001b[1m0s\u001b[0m 938us/step - accuracy: 0.9602 - loss: 0.1182\n",
      "Epoch 96/100\n",
      "\u001b[1m205/205\u001b[0m \u001b[32m━━━━━━━━━━━━━━━━━━━━\u001b[0m\u001b[37m\u001b[0m \u001b[1m0s\u001b[0m 1ms/step - accuracy: 0.9631 - loss: 0.1142\n",
      "Epoch 97/100\n",
      "\u001b[1m205/205\u001b[0m \u001b[32m━━━━━━━━━━━━━━━━━━━━\u001b[0m\u001b[37m\u001b[0m \u001b[1m0s\u001b[0m 955us/step - accuracy: 0.9624 - loss: 0.1166\n",
      "Epoch 98/100\n",
      "\u001b[1m205/205\u001b[0m \u001b[32m━━━━━━━━━━━━━━━━━━━━\u001b[0m\u001b[37m\u001b[0m \u001b[1m0s\u001b[0m 980us/step - accuracy: 0.9608 - loss: 0.1206\n",
      "Epoch 99/100\n",
      "\u001b[1m205/205\u001b[0m \u001b[32m━━━━━━━━━━━━━━━━━━━━\u001b[0m\u001b[37m\u001b[0m \u001b[1m0s\u001b[0m 956us/step - accuracy: 0.9560 - loss: 0.1265\n",
      "Epoch 100/100\n",
      "\u001b[1m205/205\u001b[0m \u001b[32m━━━━━━━━━━━━━━━━━━━━\u001b[0m\u001b[37m\u001b[0m \u001b[1m0s\u001b[0m 987us/step - accuracy: 0.9646 - loss: 0.1121\n"
     ]
    }
   ],
   "source": [
    "ann_model = Sequential()\n",
    "ann_model.add(Input(shape=(19,)))  # Input layer with 19 features\n",
    "ann_model.add(Dense(32, activation='relu'))  # First hidden layer with 32 neurons\n",
    "ann_model.add(Dense(16, activation='relu'))  # Second hidden layer with 16 neurons\n",
    "ann_model.add(Dense(1, activation='sigmoid')) # Output Layer\n",
    "\n",
    "ann_model.compile(optimizer='adam', loss='binary_crossentropy', metrics=['accuracy'])\n",
    "churn = ann_model.fit(x_train_scaled, y_train, epochs=100)"
   ]
  },
  {
   "cell_type": "code",
   "execution_count": 90,
   "id": "f00da47f-c3fd-467e-a042-2c109cd0c9b2",
   "metadata": {},
   "outputs": [
    {
     "name": "stdout",
     "output_type": "stream",
     "text": [
      "\u001b[1m88/88\u001b[0m \u001b[32m━━━━━━━━━━━━━━━━━━━━\u001b[0m\u001b[37m\u001b[0m \u001b[1m0s\u001b[0m 938us/step\n",
      "Accuracy = 0.8384341637010676\n",
      "\n",
      "Classification Report of ANN:\n",
      "              precision    recall  f1-score   support\n",
      "\n",
      "           0     0.7843    0.9396    0.8550      1424\n",
      "           1     0.9221    0.7345    0.8177      1386\n",
      "\n",
      "    accuracy                         0.8384      2810\n",
      "   macro avg     0.8532    0.8370    0.8363      2810\n",
      "weighted avg     0.8523    0.8384    0.8366      2810\n",
      "\n"
     ]
    },
    {
     "data": {
      "text/plain": [
       "(<Figure size 640x480 with 1 Axes>,\n",
       " <Axes: xlabel='predicted label', ylabel='true label'>)"
      ]
     },
     "execution_count": 90,
     "metadata": {},
     "output_type": "execute_result"
    },
    {
     "data": {
      "image/png": "[encoded data removed]",
      "text/plain": [
       "<Figure size 640x480 with 1 Axes>"
      ]
     },
     "metadata": {},
     "output_type": "display_data"
    }
   ],
   "source": [
    "y_pred_ann = ann_model.predict(x_test_scaled)\n",
    "y_pred_binary = (y_pred_ann > 0.5).astype(int)\n",
    "\n",
    "accuracy = accuracy_score(y_test, y_pred_binary) \n",
    "print(f\"Accuracy = {format(accuracy)}\") \n",
    "\n",
    "print(f\"\\nClassification Report of ANN:\\n{classification_report(y_test, y_pred_binary, digits=4)}\") \n",
    "plot_confusion_matrix(confusion_matrix(y_test, y_pred_binary)) # Computes the confusion matrix"
   ]
  },
  {
   "cell_type": "code",
   "execution_count": null,
   "id": "bf37ffb7-dde0-45e2-9418-2e5e828e4734",
   "metadata": {},
   "outputs": [],
   "source": []
  }
 ],
 "metadata": {
  "kernelspec": {
   "display_name": "base",
   "language": "python",
   "name": "python3"
  },
  "language_info": {
   "codemirror_mode": {
    "name": "ipython",
    "version": 3
   },
   "file_extension": ".py",
   "mimetype": "text/x-python",
   "name": "python",
   "nbconvert_exporter": "python",
   "pygments_lexer": "ipython3",
   "version": "3.12.7"
  }
 },
 "nbformat": 4,
 "nbformat_minor": 5
}
